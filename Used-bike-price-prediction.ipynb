{
 "cells": [
  {
   "cell_type": "markdown",
   "id": "8eacd5c8",
   "metadata": {
    "papermill": {
     "duration": 0.074602,
     "end_time": "2022-04-21T07:29:47.904775",
     "exception": false,
     "start_time": "2022-04-21T07:29:47.830173",
     "status": "completed"
    },
    "tags": []
   },
   "source": [
    "# Price Prediction Of Second Hand Used Bikes"
   ]
  },
  {
   "cell_type": "code",
   "execution_count": 1,
   "id": "15d548b6",
   "metadata": {
    "execution": {
     "iopub.execute_input": "2022-04-21T07:29:48.032247Z",
     "iopub.status.busy": "2022-04-21T07:29:48.030773Z",
     "iopub.status.idle": "2022-04-21T07:29:48.034372Z",
     "shell.execute_reply": "2022-04-21T07:29:48.033734Z",
     "shell.execute_reply.started": "2022-04-21T07:20:41.478604Z"
    },
    "papermill": {
     "duration": 0.068969,
     "end_time": "2022-04-21T07:29:48.034531",
     "exception": false,
     "start_time": "2022-04-21T07:29:47.965562",
     "status": "completed"
    },
    "tags": []
   },
   "outputs": [],
   "source": [
    "# About The Project \n",
    "# In This Project , The Price Of THe Second Hand Used Bikes is predicted on the Basis Of Kms Driven, Brand, Etc. We Using Linear Regresiion Model, Random Forest Regression, Decision Tree Regression Model Of Machine Learning .."
   ]
  },
  {
   "cell_type": "markdown",
   "id": "fcf65e2d",
   "metadata": {
    "papermill": {
     "duration": 0.053962,
     "end_time": "2022-04-21T07:29:48.143124",
     "exception": false,
     "start_time": "2022-04-21T07:29:48.089162",
     "status": "completed"
    },
    "tags": []
   },
   "source": [
    "# Data Dictionary"
   ]
  },
  {
   "cell_type": "markdown",
   "id": "6a1112ab",
   "metadata": {
    "papermill": {
     "duration": 0.054283,
     "end_time": "2022-04-21T07:29:48.251643",
     "exception": false,
     "start_time": "2022-04-21T07:29:48.197360",
     "status": "completed"
    },
    "tags": []
   },
   "source": [
    "1. bike name (categorical) \n",
    "1. price of the bike(numerical)\n",
    "1. city in which the bike is available(categorical)\n",
    "1. kilometers driven(numerical)\n",
    "1. how many owner it have\n",
    "1. age of the vehicle\n",
    "1. power of the vehicle\n",
    "1. brand of the vehicle"
   ]
  },
  {
   "cell_type": "markdown",
   "id": "da66b629",
   "metadata": {
    "papermill": {
     "duration": 0.054522,
     "end_time": "2022-04-21T07:29:48.360452",
     "exception": false,
     "start_time": "2022-04-21T07:29:48.305930",
     "status": "completed"
    },
    "tags": []
   },
   "source": [
    "#Models we used \n",
    "\n",
    "#Linear Regression model\n",
    "#Random forest Regressor model\n",
    "#Decisiontree Regressor model"
   ]
  },
  {
   "cell_type": "code",
   "execution_count": 2,
   "id": "084d6ecf",
   "metadata": {
    "execution": {
     "iopub.execute_input": "2022-04-21T07:29:48.538671Z",
     "iopub.status.busy": "2022-04-21T07:29:48.537626Z",
     "iopub.status.idle": "2022-04-21T07:29:49.807511Z",
     "shell.execute_reply": "2022-04-21T07:29:49.808346Z",
     "shell.execute_reply.started": "2022-04-21T07:20:41.490595Z"
    },
    "id": "GGim4IdrRZ2T",
    "papermill": {
     "duration": 1.333707,
     "end_time": "2022-04-21T07:29:49.808549",
     "exception": false,
     "start_time": "2022-04-21T07:29:48.474842",
     "status": "completed"
    },
    "tags": []
   },
   "outputs": [],
   "source": [
    "#importing the libraries\n",
    "import pandas as pd\n",
    "import numpy as np\n",
    "import matplotlib.pyplot as plt\n",
    "import seaborn as sns\n",
    "from sklearn.model_selection import train_test_split\n",
    "from sklearn.linear_model import LinearRegression"
   ]
  },
  {
   "cell_type": "markdown",
   "id": "98e95f3b",
   "metadata": {
    "papermill": {
     "duration": 0.054549,
     "end_time": "2022-04-21T07:29:49.918550",
     "exception": false,
     "start_time": "2022-04-21T07:29:49.864001",
     "status": "completed"
    },
    "tags": []
   },
   "source": [
    "# Importing The Data"
   ]
  },
  {
   "cell_type": "code",
   "execution_count": 3,
   "id": "f43496bd",
   "metadata": {
    "execution": {
     "iopub.execute_input": "2022-04-21T07:29:50.035868Z",
     "iopub.status.busy": "2022-04-21T07:29:50.035145Z",
     "iopub.status.idle": "2022-04-21T07:29:50.135507Z",
     "shell.execute_reply": "2022-04-21T07:29:50.134870Z",
     "shell.execute_reply.started": "2022-04-21T07:20:41.503774Z"
    },
    "id": "FnNIpUU1R-F_",
    "papermill": {
     "duration": 0.162453,
     "end_time": "2022-04-21T07:29:50.135689",
     "exception": false,
     "start_time": "2022-04-21T07:29:49.973236",
     "status": "completed"
    },
    "tags": []
   },
   "outputs": [],
   "source": [
    "Used_Bike_Price = pd.read_csv(\"../input/used-bikes-prices-in-india/Used_Bikes.csv\")"
   ]
  },
  {
   "cell_type": "code",
   "execution_count": 4,
   "id": "8c0ccd55",
   "metadata": {
    "execution": {
     "iopub.execute_input": "2022-04-21T07:29:50.249989Z",
     "iopub.status.busy": "2022-04-21T07:29:50.249348Z",
     "iopub.status.idle": "2022-04-21T07:29:50.284743Z",
     "shell.execute_reply": "2022-04-21T07:29:50.285239Z",
     "shell.execute_reply.started": "2022-04-21T07:20:41.565370Z"
    },
    "papermill": {
     "duration": 0.093365,
     "end_time": "2022-04-21T07:29:50.285419",
     "exception": false,
     "start_time": "2022-04-21T07:29:50.192054",
     "status": "completed"
    },
    "tags": []
   },
   "outputs": [
    {
     "data": {
      "text/html": [
       "<div>\n",
       "<style scoped>\n",
       "    .dataframe tbody tr th:only-of-type {\n",
       "        vertical-align: middle;\n",
       "    }\n",
       "\n",
       "    .dataframe tbody tr th {\n",
       "        vertical-align: top;\n",
       "    }\n",
       "\n",
       "    .dataframe thead th {\n",
       "        text-align: right;\n",
       "    }\n",
       "</style>\n",
       "<table border=\"1\" class=\"dataframe\">\n",
       "  <thead>\n",
       "    <tr style=\"text-align: right;\">\n",
       "      <th></th>\n",
       "      <th>bike_name</th>\n",
       "      <th>price</th>\n",
       "      <th>city</th>\n",
       "      <th>kms_driven</th>\n",
       "      <th>owner</th>\n",
       "      <th>age</th>\n",
       "      <th>power</th>\n",
       "      <th>brand</th>\n",
       "    </tr>\n",
       "  </thead>\n",
       "  <tbody>\n",
       "    <tr>\n",
       "      <th>0</th>\n",
       "      <td>TVS Star City Plus Dual Tone 110cc</td>\n",
       "      <td>35000.0</td>\n",
       "      <td>Ahmedabad</td>\n",
       "      <td>17654.0</td>\n",
       "      <td>First Owner</td>\n",
       "      <td>3.0</td>\n",
       "      <td>110.0</td>\n",
       "      <td>TVS</td>\n",
       "    </tr>\n",
       "    <tr>\n",
       "      <th>1</th>\n",
       "      <td>Royal Enfield Classic 350cc</td>\n",
       "      <td>119900.0</td>\n",
       "      <td>Delhi</td>\n",
       "      <td>11000.0</td>\n",
       "      <td>First Owner</td>\n",
       "      <td>4.0</td>\n",
       "      <td>350.0</td>\n",
       "      <td>Royal Enfield</td>\n",
       "    </tr>\n",
       "    <tr>\n",
       "      <th>2</th>\n",
       "      <td>Triumph Daytona 675R</td>\n",
       "      <td>600000.0</td>\n",
       "      <td>Delhi</td>\n",
       "      <td>110.0</td>\n",
       "      <td>First Owner</td>\n",
       "      <td>8.0</td>\n",
       "      <td>675.0</td>\n",
       "      <td>Triumph</td>\n",
       "    </tr>\n",
       "    <tr>\n",
       "      <th>3</th>\n",
       "      <td>TVS Apache RTR 180cc</td>\n",
       "      <td>65000.0</td>\n",
       "      <td>Bangalore</td>\n",
       "      <td>16329.0</td>\n",
       "      <td>First Owner</td>\n",
       "      <td>4.0</td>\n",
       "      <td>180.0</td>\n",
       "      <td>TVS</td>\n",
       "    </tr>\n",
       "    <tr>\n",
       "      <th>4</th>\n",
       "      <td>Yamaha FZ S V 2.0 150cc-Ltd. Edition</td>\n",
       "      <td>80000.0</td>\n",
       "      <td>Bangalore</td>\n",
       "      <td>10000.0</td>\n",
       "      <td>First Owner</td>\n",
       "      <td>3.0</td>\n",
       "      <td>150.0</td>\n",
       "      <td>Yamaha</td>\n",
       "    </tr>\n",
       "    <tr>\n",
       "      <th>...</th>\n",
       "      <td>...</td>\n",
       "      <td>...</td>\n",
       "      <td>...</td>\n",
       "      <td>...</td>\n",
       "      <td>...</td>\n",
       "      <td>...</td>\n",
       "      <td>...</td>\n",
       "      <td>...</td>\n",
       "    </tr>\n",
       "    <tr>\n",
       "      <th>32643</th>\n",
       "      <td>Hero Passion Pro 100cc</td>\n",
       "      <td>39000.0</td>\n",
       "      <td>Delhi</td>\n",
       "      <td>22000.0</td>\n",
       "      <td>First Owner</td>\n",
       "      <td>4.0</td>\n",
       "      <td>100.0</td>\n",
       "      <td>Hero</td>\n",
       "    </tr>\n",
       "    <tr>\n",
       "      <th>32644</th>\n",
       "      <td>TVS Apache RTR 180cc</td>\n",
       "      <td>30000.0</td>\n",
       "      <td>Karnal</td>\n",
       "      <td>6639.0</td>\n",
       "      <td>First Owner</td>\n",
       "      <td>9.0</td>\n",
       "      <td>180.0</td>\n",
       "      <td>TVS</td>\n",
       "    </tr>\n",
       "    <tr>\n",
       "      <th>32645</th>\n",
       "      <td>Bajaj Avenger Street 220</td>\n",
       "      <td>60000.0</td>\n",
       "      <td>Delhi</td>\n",
       "      <td>20373.0</td>\n",
       "      <td>First Owner</td>\n",
       "      <td>6.0</td>\n",
       "      <td>220.0</td>\n",
       "      <td>Bajaj</td>\n",
       "    </tr>\n",
       "    <tr>\n",
       "      <th>32646</th>\n",
       "      <td>Hero Super Splendor 125cc</td>\n",
       "      <td>15600.0</td>\n",
       "      <td>Jaipur</td>\n",
       "      <td>84186.0</td>\n",
       "      <td>First Owner</td>\n",
       "      <td>16.0</td>\n",
       "      <td>125.0</td>\n",
       "      <td>Hero</td>\n",
       "    </tr>\n",
       "    <tr>\n",
       "      <th>32647</th>\n",
       "      <td>Bajaj Pulsar 150cc</td>\n",
       "      <td>22000.0</td>\n",
       "      <td>Pune</td>\n",
       "      <td>60857.0</td>\n",
       "      <td>First Owner</td>\n",
       "      <td>13.0</td>\n",
       "      <td>150.0</td>\n",
       "      <td>Bajaj</td>\n",
       "    </tr>\n",
       "  </tbody>\n",
       "</table>\n",
       "<p>32648 rows × 8 columns</p>\n",
       "</div>"
      ],
      "text/plain": [
       "                                  bike_name     price       city  kms_driven  \\\n",
       "0        TVS Star City Plus Dual Tone 110cc   35000.0  Ahmedabad     17654.0   \n",
       "1               Royal Enfield Classic 350cc  119900.0      Delhi     11000.0   \n",
       "2                      Triumph Daytona 675R  600000.0      Delhi       110.0   \n",
       "3                      TVS Apache RTR 180cc   65000.0  Bangalore     16329.0   \n",
       "4      Yamaha FZ S V 2.0 150cc-Ltd. Edition   80000.0  Bangalore     10000.0   \n",
       "...                                     ...       ...        ...         ...   \n",
       "32643                Hero Passion Pro 100cc   39000.0      Delhi     22000.0   \n",
       "32644                  TVS Apache RTR 180cc   30000.0     Karnal      6639.0   \n",
       "32645              Bajaj Avenger Street 220   60000.0      Delhi     20373.0   \n",
       "32646             Hero Super Splendor 125cc   15600.0     Jaipur     84186.0   \n",
       "32647                    Bajaj Pulsar 150cc   22000.0       Pune     60857.0   \n",
       "\n",
       "             owner   age  power          brand  \n",
       "0      First Owner   3.0  110.0            TVS  \n",
       "1      First Owner   4.0  350.0  Royal Enfield  \n",
       "2      First Owner   8.0  675.0        Triumph  \n",
       "3      First Owner   4.0  180.0            TVS  \n",
       "4      First Owner   3.0  150.0         Yamaha  \n",
       "...            ...   ...    ...            ...  \n",
       "32643  First Owner   4.0  100.0           Hero  \n",
       "32644  First Owner   9.0  180.0            TVS  \n",
       "32645  First Owner   6.0  220.0          Bajaj  \n",
       "32646  First Owner  16.0  125.0           Hero  \n",
       "32647  First Owner  13.0  150.0          Bajaj  \n",
       "\n",
       "[32648 rows x 8 columns]"
      ]
     },
     "execution_count": 4,
     "metadata": {},
     "output_type": "execute_result"
    }
   ],
   "source": [
    "Used_Bike_Price"
   ]
  },
  {
   "cell_type": "code",
   "execution_count": 5,
   "id": "9edede56",
   "metadata": {
    "execution": {
     "iopub.execute_input": "2022-04-21T07:29:50.400914Z",
     "iopub.status.busy": "2022-04-21T07:29:50.400276Z",
     "iopub.status.idle": "2022-04-21T07:29:50.415291Z",
     "shell.execute_reply": "2022-04-21T07:29:50.415848Z",
     "shell.execute_reply.started": "2022-04-21T07:20:41.594408Z"
    },
    "id": "ip4KnU4nSCRp",
    "outputId": "64287ce4-79d5-44ca-edc5-12f7aa845e8a",
    "papermill": {
     "duration": 0.074226,
     "end_time": "2022-04-21T07:29:50.416031",
     "exception": false,
     "start_time": "2022-04-21T07:29:50.341805",
     "status": "completed"
    },
    "tags": []
   },
   "outputs": [
    {
     "data": {
      "text/html": [
       "<div>\n",
       "<style scoped>\n",
       "    .dataframe tbody tr th:only-of-type {\n",
       "        vertical-align: middle;\n",
       "    }\n",
       "\n",
       "    .dataframe tbody tr th {\n",
       "        vertical-align: top;\n",
       "    }\n",
       "\n",
       "    .dataframe thead th {\n",
       "        text-align: right;\n",
       "    }\n",
       "</style>\n",
       "<table border=\"1\" class=\"dataframe\">\n",
       "  <thead>\n",
       "    <tr style=\"text-align: right;\">\n",
       "      <th></th>\n",
       "      <th>bike_name</th>\n",
       "      <th>price</th>\n",
       "      <th>city</th>\n",
       "      <th>kms_driven</th>\n",
       "      <th>owner</th>\n",
       "      <th>age</th>\n",
       "      <th>power</th>\n",
       "      <th>brand</th>\n",
       "    </tr>\n",
       "  </thead>\n",
       "  <tbody>\n",
       "    <tr>\n",
       "      <th>0</th>\n",
       "      <td>TVS Star City Plus Dual Tone 110cc</td>\n",
       "      <td>35000.0</td>\n",
       "      <td>Ahmedabad</td>\n",
       "      <td>17654.0</td>\n",
       "      <td>First Owner</td>\n",
       "      <td>3.0</td>\n",
       "      <td>110.0</td>\n",
       "      <td>TVS</td>\n",
       "    </tr>\n",
       "    <tr>\n",
       "      <th>1</th>\n",
       "      <td>Royal Enfield Classic 350cc</td>\n",
       "      <td>119900.0</td>\n",
       "      <td>Delhi</td>\n",
       "      <td>11000.0</td>\n",
       "      <td>First Owner</td>\n",
       "      <td>4.0</td>\n",
       "      <td>350.0</td>\n",
       "      <td>Royal Enfield</td>\n",
       "    </tr>\n",
       "    <tr>\n",
       "      <th>2</th>\n",
       "      <td>Triumph Daytona 675R</td>\n",
       "      <td>600000.0</td>\n",
       "      <td>Delhi</td>\n",
       "      <td>110.0</td>\n",
       "      <td>First Owner</td>\n",
       "      <td>8.0</td>\n",
       "      <td>675.0</td>\n",
       "      <td>Triumph</td>\n",
       "    </tr>\n",
       "    <tr>\n",
       "      <th>3</th>\n",
       "      <td>TVS Apache RTR 180cc</td>\n",
       "      <td>65000.0</td>\n",
       "      <td>Bangalore</td>\n",
       "      <td>16329.0</td>\n",
       "      <td>First Owner</td>\n",
       "      <td>4.0</td>\n",
       "      <td>180.0</td>\n",
       "      <td>TVS</td>\n",
       "    </tr>\n",
       "    <tr>\n",
       "      <th>4</th>\n",
       "      <td>Yamaha FZ S V 2.0 150cc-Ltd. Edition</td>\n",
       "      <td>80000.0</td>\n",
       "      <td>Bangalore</td>\n",
       "      <td>10000.0</td>\n",
       "      <td>First Owner</td>\n",
       "      <td>3.0</td>\n",
       "      <td>150.0</td>\n",
       "      <td>Yamaha</td>\n",
       "    </tr>\n",
       "  </tbody>\n",
       "</table>\n",
       "</div>"
      ],
      "text/plain": [
       "                              bike_name     price       city  kms_driven  \\\n",
       "0    TVS Star City Plus Dual Tone 110cc   35000.0  Ahmedabad     17654.0   \n",
       "1           Royal Enfield Classic 350cc  119900.0      Delhi     11000.0   \n",
       "2                  Triumph Daytona 675R  600000.0      Delhi       110.0   \n",
       "3                  TVS Apache RTR 180cc   65000.0  Bangalore     16329.0   \n",
       "4  Yamaha FZ S V 2.0 150cc-Ltd. Edition   80000.0  Bangalore     10000.0   \n",
       "\n",
       "         owner  age  power          brand  \n",
       "0  First Owner  3.0  110.0            TVS  \n",
       "1  First Owner  4.0  350.0  Royal Enfield  \n",
       "2  First Owner  8.0  675.0        Triumph  \n",
       "3  First Owner  4.0  180.0            TVS  \n",
       "4  First Owner  3.0  150.0         Yamaha  "
      ]
     },
     "execution_count": 5,
     "metadata": {},
     "output_type": "execute_result"
    }
   ],
   "source": [
    "Used_Bike_Price.head()"
   ]
  },
  {
   "cell_type": "code",
   "execution_count": 6,
   "id": "42efc366",
   "metadata": {
    "execution": {
     "iopub.execute_input": "2022-04-21T07:29:50.533499Z",
     "iopub.status.busy": "2022-04-21T07:29:50.532851Z",
     "iopub.status.idle": "2022-04-21T07:29:50.537243Z",
     "shell.execute_reply": "2022-04-21T07:29:50.537861Z",
     "shell.execute_reply.started": "2022-04-21T07:20:41.615697Z"
    },
    "papermill": {
     "duration": 0.064895,
     "end_time": "2022-04-21T07:29:50.538027",
     "exception": false,
     "start_time": "2022-04-21T07:29:50.473132",
     "status": "completed"
    },
    "tags": []
   },
   "outputs": [
    {
     "data": {
      "text/plain": [
       "(32648, 8)"
      ]
     },
     "execution_count": 6,
     "metadata": {},
     "output_type": "execute_result"
    }
   ],
   "source": [
    "Used_Bike_Price.shape"
   ]
  },
  {
   "cell_type": "code",
   "execution_count": 7,
   "id": "c1503788",
   "metadata": {
    "execution": {
     "iopub.execute_input": "2022-04-21T07:29:50.654883Z",
     "iopub.status.busy": "2022-04-21T07:29:50.654198Z",
     "iopub.status.idle": "2022-04-21T07:29:50.659188Z",
     "shell.execute_reply": "2022-04-21T07:29:50.659803Z",
     "shell.execute_reply.started": "2022-04-21T07:20:41.623195Z"
    },
    "papermill": {
     "duration": 0.06481,
     "end_time": "2022-04-21T07:29:50.659987",
     "exception": false,
     "start_time": "2022-04-21T07:29:50.595177",
     "status": "completed"
    },
    "tags": []
   },
   "outputs": [
    {
     "data": {
      "text/plain": [
       "Index(['bike_name', 'price', 'city', 'kms_driven', 'owner', 'age', 'power',\n",
       "       'brand'],\n",
       "      dtype='object')"
      ]
     },
     "execution_count": 7,
     "metadata": {},
     "output_type": "execute_result"
    }
   ],
   "source": [
    "Used_Bike_Price.columns"
   ]
  },
  {
   "cell_type": "markdown",
   "id": "cb7d77f0",
   "metadata": {
    "papermill": {
     "duration": 0.056938,
     "end_time": "2022-04-21T07:29:50.774041",
     "exception": false,
     "start_time": "2022-04-21T07:29:50.717103",
     "status": "completed"
    },
    "tags": []
   },
   "source": [
    "# ANALYSING THE DATA"
   ]
  },
  {
   "cell_type": "code",
   "execution_count": 8,
   "id": "40ce2e27",
   "metadata": {
    "execution": {
     "iopub.execute_input": "2022-04-21T07:29:50.890557Z",
     "iopub.status.busy": "2022-04-21T07:29:50.889931Z",
     "iopub.status.idle": "2022-04-21T07:29:50.925390Z",
     "shell.execute_reply": "2022-04-21T07:29:50.924828Z",
     "shell.execute_reply.started": "2022-04-21T07:20:41.638129Z"
    },
    "papermill": {
     "duration": 0.09476,
     "end_time": "2022-04-21T07:29:50.925539",
     "exception": false,
     "start_time": "2022-04-21T07:29:50.830779",
     "status": "completed"
    },
    "tags": []
   },
   "outputs": [
    {
     "data": {
      "text/html": [
       "<div>\n",
       "<style scoped>\n",
       "    .dataframe tbody tr th:only-of-type {\n",
       "        vertical-align: middle;\n",
       "    }\n",
       "\n",
       "    .dataframe tbody tr th {\n",
       "        vertical-align: top;\n",
       "    }\n",
       "\n",
       "    .dataframe thead th {\n",
       "        text-align: right;\n",
       "    }\n",
       "</style>\n",
       "<table border=\"1\" class=\"dataframe\">\n",
       "  <thead>\n",
       "    <tr style=\"text-align: right;\">\n",
       "      <th></th>\n",
       "      <th>price</th>\n",
       "      <th>kms_driven</th>\n",
       "      <th>age</th>\n",
       "      <th>power</th>\n",
       "    </tr>\n",
       "  </thead>\n",
       "  <tbody>\n",
       "    <tr>\n",
       "      <th>count</th>\n",
       "      <td>3.264800e+04</td>\n",
       "      <td>32648.000000</td>\n",
       "      <td>32648.000000</td>\n",
       "      <td>32648.000000</td>\n",
       "    </tr>\n",
       "    <tr>\n",
       "      <th>mean</th>\n",
       "      <td>6.829542e+04</td>\n",
       "      <td>26344.625184</td>\n",
       "      <td>8.048211</td>\n",
       "      <td>213.511302</td>\n",
       "    </tr>\n",
       "    <tr>\n",
       "      <th>std</th>\n",
       "      <td>9.071860e+04</td>\n",
       "      <td>22208.527695</td>\n",
       "      <td>4.031700</td>\n",
       "      <td>134.428868</td>\n",
       "    </tr>\n",
       "    <tr>\n",
       "      <th>min</th>\n",
       "      <td>4.400000e+03</td>\n",
       "      <td>1.000000</td>\n",
       "      <td>1.000000</td>\n",
       "      <td>100.000000</td>\n",
       "    </tr>\n",
       "    <tr>\n",
       "      <th>25%</th>\n",
       "      <td>2.500000e+04</td>\n",
       "      <td>12000.000000</td>\n",
       "      <td>5.000000</td>\n",
       "      <td>150.000000</td>\n",
       "    </tr>\n",
       "    <tr>\n",
       "      <th>50%</th>\n",
       "      <td>4.300000e+04</td>\n",
       "      <td>20373.000000</td>\n",
       "      <td>7.000000</td>\n",
       "      <td>150.000000</td>\n",
       "    </tr>\n",
       "    <tr>\n",
       "      <th>75%</th>\n",
       "      <td>8.000000e+04</td>\n",
       "      <td>35000.000000</td>\n",
       "      <td>10.000000</td>\n",
       "      <td>220.000000</td>\n",
       "    </tr>\n",
       "    <tr>\n",
       "      <th>max</th>\n",
       "      <td>1.900000e+06</td>\n",
       "      <td>750000.000000</td>\n",
       "      <td>63.000000</td>\n",
       "      <td>1800.000000</td>\n",
       "    </tr>\n",
       "  </tbody>\n",
       "</table>\n",
       "</div>"
      ],
      "text/plain": [
       "              price     kms_driven           age         power\n",
       "count  3.264800e+04   32648.000000  32648.000000  32648.000000\n",
       "mean   6.829542e+04   26344.625184      8.048211    213.511302\n",
       "std    9.071860e+04   22208.527695      4.031700    134.428868\n",
       "min    4.400000e+03       1.000000      1.000000    100.000000\n",
       "25%    2.500000e+04   12000.000000      5.000000    150.000000\n",
       "50%    4.300000e+04   20373.000000      7.000000    150.000000\n",
       "75%    8.000000e+04   35000.000000     10.000000    220.000000\n",
       "max    1.900000e+06  750000.000000     63.000000   1800.000000"
      ]
     },
     "execution_count": 8,
     "metadata": {},
     "output_type": "execute_result"
    }
   ],
   "source": [
    "Used_Bike_Price.describe()"
   ]
  },
  {
   "cell_type": "code",
   "execution_count": 9,
   "id": "65d7f8b2",
   "metadata": {
    "execution": {
     "iopub.execute_input": "2022-04-21T07:29:51.046712Z",
     "iopub.status.busy": "2022-04-21T07:29:51.046021Z",
     "iopub.status.idle": "2022-04-21T07:29:51.072334Z",
     "shell.execute_reply": "2022-04-21T07:29:51.072869Z",
     "shell.execute_reply.started": "2022-04-21T07:20:41.681568Z"
    },
    "id": "znaXHE5ZSEA8",
    "papermill": {
     "duration": 0.090148,
     "end_time": "2022-04-21T07:29:51.073055",
     "exception": false,
     "start_time": "2022-04-21T07:29:50.982907",
     "status": "completed"
    },
    "tags": []
   },
   "outputs": [
    {
     "name": "stdout",
     "output_type": "stream",
     "text": [
      "<class 'pandas.core.frame.DataFrame'>\n",
      "RangeIndex: 32648 entries, 0 to 32647\n",
      "Data columns (total 8 columns):\n",
      " #   Column      Non-Null Count  Dtype  \n",
      "---  ------      --------------  -----  \n",
      " 0   bike_name   32648 non-null  object \n",
      " 1   price       32648 non-null  float64\n",
      " 2   city        32648 non-null  object \n",
      " 3   kms_driven  32648 non-null  float64\n",
      " 4   owner       32648 non-null  object \n",
      " 5   age         32648 non-null  float64\n",
      " 6   power       32648 non-null  float64\n",
      " 7   brand       32648 non-null  object \n",
      "dtypes: float64(4), object(4)\n",
      "memory usage: 2.0+ MB\n"
     ]
    }
   ],
   "source": [
    "## check the number of null values in all columns\n",
    "## if any, remove/replace them as per the type of data\n",
    "Used_Bike_Price.info()"
   ]
  },
  {
   "cell_type": "code",
   "execution_count": 10,
   "id": "f5be1167",
   "metadata": {
    "execution": {
     "iopub.execute_input": "2022-04-21T07:29:51.192499Z",
     "iopub.status.busy": "2022-04-21T07:29:51.191822Z",
     "iopub.status.idle": "2022-04-21T07:29:51.225651Z",
     "shell.execute_reply": "2022-04-21T07:29:51.226277Z",
     "shell.execute_reply.started": "2022-04-21T07:20:41.715122Z"
    },
    "papermill": {
     "duration": 0.095457,
     "end_time": "2022-04-21T07:29:51.226452",
     "exception": false,
     "start_time": "2022-04-21T07:29:51.130995",
     "status": "completed"
    },
    "tags": []
   },
   "outputs": [
    {
     "data": {
      "text/html": [
       "<div>\n",
       "<style scoped>\n",
       "    .dataframe tbody tr th:only-of-type {\n",
       "        vertical-align: middle;\n",
       "    }\n",
       "\n",
       "    .dataframe tbody tr th {\n",
       "        vertical-align: top;\n",
       "    }\n",
       "\n",
       "    .dataframe thead th {\n",
       "        text-align: right;\n",
       "    }\n",
       "</style>\n",
       "<table border=\"1\" class=\"dataframe\">\n",
       "  <thead>\n",
       "    <tr style=\"text-align: right;\">\n",
       "      <th></th>\n",
       "      <th>bike_name</th>\n",
       "      <th>price</th>\n",
       "      <th>city</th>\n",
       "      <th>kms_driven</th>\n",
       "      <th>owner</th>\n",
       "      <th>age</th>\n",
       "      <th>power</th>\n",
       "      <th>brand</th>\n",
       "    </tr>\n",
       "  </thead>\n",
       "  <tbody>\n",
       "    <tr>\n",
       "      <th>0</th>\n",
       "      <td>False</td>\n",
       "      <td>False</td>\n",
       "      <td>False</td>\n",
       "      <td>False</td>\n",
       "      <td>False</td>\n",
       "      <td>False</td>\n",
       "      <td>False</td>\n",
       "      <td>False</td>\n",
       "    </tr>\n",
       "    <tr>\n",
       "      <th>1</th>\n",
       "      <td>False</td>\n",
       "      <td>False</td>\n",
       "      <td>False</td>\n",
       "      <td>False</td>\n",
       "      <td>False</td>\n",
       "      <td>False</td>\n",
       "      <td>False</td>\n",
       "      <td>False</td>\n",
       "    </tr>\n",
       "    <tr>\n",
       "      <th>2</th>\n",
       "      <td>False</td>\n",
       "      <td>False</td>\n",
       "      <td>False</td>\n",
       "      <td>False</td>\n",
       "      <td>False</td>\n",
       "      <td>False</td>\n",
       "      <td>False</td>\n",
       "      <td>False</td>\n",
       "    </tr>\n",
       "    <tr>\n",
       "      <th>3</th>\n",
       "      <td>False</td>\n",
       "      <td>False</td>\n",
       "      <td>False</td>\n",
       "      <td>False</td>\n",
       "      <td>False</td>\n",
       "      <td>False</td>\n",
       "      <td>False</td>\n",
       "      <td>False</td>\n",
       "    </tr>\n",
       "    <tr>\n",
       "      <th>4</th>\n",
       "      <td>False</td>\n",
       "      <td>False</td>\n",
       "      <td>False</td>\n",
       "      <td>False</td>\n",
       "      <td>False</td>\n",
       "      <td>False</td>\n",
       "      <td>False</td>\n",
       "      <td>False</td>\n",
       "    </tr>\n",
       "    <tr>\n",
       "      <th>...</th>\n",
       "      <td>...</td>\n",
       "      <td>...</td>\n",
       "      <td>...</td>\n",
       "      <td>...</td>\n",
       "      <td>...</td>\n",
       "      <td>...</td>\n",
       "      <td>...</td>\n",
       "      <td>...</td>\n",
       "    </tr>\n",
       "    <tr>\n",
       "      <th>32643</th>\n",
       "      <td>False</td>\n",
       "      <td>False</td>\n",
       "      <td>False</td>\n",
       "      <td>False</td>\n",
       "      <td>False</td>\n",
       "      <td>False</td>\n",
       "      <td>False</td>\n",
       "      <td>False</td>\n",
       "    </tr>\n",
       "    <tr>\n",
       "      <th>32644</th>\n",
       "      <td>False</td>\n",
       "      <td>False</td>\n",
       "      <td>False</td>\n",
       "      <td>False</td>\n",
       "      <td>False</td>\n",
       "      <td>False</td>\n",
       "      <td>False</td>\n",
       "      <td>False</td>\n",
       "    </tr>\n",
       "    <tr>\n",
       "      <th>32645</th>\n",
       "      <td>False</td>\n",
       "      <td>False</td>\n",
       "      <td>False</td>\n",
       "      <td>False</td>\n",
       "      <td>False</td>\n",
       "      <td>False</td>\n",
       "      <td>False</td>\n",
       "      <td>False</td>\n",
       "    </tr>\n",
       "    <tr>\n",
       "      <th>32646</th>\n",
       "      <td>False</td>\n",
       "      <td>False</td>\n",
       "      <td>False</td>\n",
       "      <td>False</td>\n",
       "      <td>False</td>\n",
       "      <td>False</td>\n",
       "      <td>False</td>\n",
       "      <td>False</td>\n",
       "    </tr>\n",
       "    <tr>\n",
       "      <th>32647</th>\n",
       "      <td>False</td>\n",
       "      <td>False</td>\n",
       "      <td>False</td>\n",
       "      <td>False</td>\n",
       "      <td>False</td>\n",
       "      <td>False</td>\n",
       "      <td>False</td>\n",
       "      <td>False</td>\n",
       "    </tr>\n",
       "  </tbody>\n",
       "</table>\n",
       "<p>32648 rows × 8 columns</p>\n",
       "</div>"
      ],
      "text/plain": [
       "       bike_name  price   city  kms_driven  owner    age  power  brand\n",
       "0          False  False  False       False  False  False  False  False\n",
       "1          False  False  False       False  False  False  False  False\n",
       "2          False  False  False       False  False  False  False  False\n",
       "3          False  False  False       False  False  False  False  False\n",
       "4          False  False  False       False  False  False  False  False\n",
       "...          ...    ...    ...         ...    ...    ...    ...    ...\n",
       "32643      False  False  False       False  False  False  False  False\n",
       "32644      False  False  False       False  False  False  False  False\n",
       "32645      False  False  False       False  False  False  False  False\n",
       "32646      False  False  False       False  False  False  False  False\n",
       "32647      False  False  False       False  False  False  False  False\n",
       "\n",
       "[32648 rows x 8 columns]"
      ]
     },
     "execution_count": 10,
     "metadata": {},
     "output_type": "execute_result"
    }
   ],
   "source": [
    "Used_Bike_Price.isnull()"
   ]
  },
  {
   "cell_type": "code",
   "execution_count": 11,
   "id": "d523c396",
   "metadata": {
    "execution": {
     "iopub.execute_input": "2022-04-21T07:29:51.346688Z",
     "iopub.status.busy": "2022-04-21T07:29:51.346015Z",
     "iopub.status.idle": "2022-04-21T07:29:51.367439Z",
     "shell.execute_reply": "2022-04-21T07:29:51.368004Z",
     "shell.execute_reply.started": "2022-04-21T07:20:41.754641Z"
    },
    "papermill": {
     "duration": 0.083117,
     "end_time": "2022-04-21T07:29:51.368177",
     "exception": false,
     "start_time": "2022-04-21T07:29:51.285060",
     "status": "completed"
    },
    "tags": []
   },
   "outputs": [
    {
     "data": {
      "text/plain": [
       "bike_name     0\n",
       "price         0\n",
       "city          0\n",
       "kms_driven    0\n",
       "owner         0\n",
       "age           0\n",
       "power         0\n",
       "brand         0\n",
       "dtype: int64"
      ]
     },
     "execution_count": 11,
     "metadata": {},
     "output_type": "execute_result"
    }
   ],
   "source": [
    "Used_Bike_Price.isnull().sum()"
   ]
  },
  {
   "cell_type": "code",
   "execution_count": 12,
   "id": "7be6122f",
   "metadata": {
    "execution": {
     "iopub.execute_input": "2022-04-21T07:29:51.488793Z",
     "iopub.status.busy": "2022-04-21T07:29:51.488055Z",
     "iopub.status.idle": "2022-04-21T07:29:51.510663Z",
     "shell.execute_reply": "2022-04-21T07:29:51.511169Z",
     "shell.execute_reply.started": "2022-04-21T07:20:41.779392Z"
    },
    "papermill": {
     "duration": 0.084648,
     "end_time": "2022-04-21T07:29:51.511335",
     "exception": false,
     "start_time": "2022-04-21T07:29:51.426687",
     "status": "completed"
    },
    "tags": []
   },
   "outputs": [
    {
     "data": {
      "text/plain": [
       "bike_name     32648\n",
       "price         32648\n",
       "city          32648\n",
       "kms_driven    32648\n",
       "owner         32648\n",
       "age           32648\n",
       "power         32648\n",
       "brand         32648\n",
       "dtype: int64"
      ]
     },
     "execution_count": 12,
     "metadata": {},
     "output_type": "execute_result"
    }
   ],
   "source": [
    "Used_Bike_Price.count()"
   ]
  },
  {
   "cell_type": "code",
   "execution_count": 13,
   "id": "d803d1fa",
   "metadata": {
    "execution": {
     "iopub.execute_input": "2022-04-21T07:29:51.632807Z",
     "iopub.status.busy": "2022-04-21T07:29:51.631783Z",
     "iopub.status.idle": "2022-04-21T07:29:51.643445Z",
     "shell.execute_reply": "2022-04-21T07:29:51.643996Z",
     "shell.execute_reply.started": "2022-04-21T07:20:41.811363Z"
    },
    "papermill": {
     "duration": 0.074117,
     "end_time": "2022-04-21T07:29:51.644170",
     "exception": false,
     "start_time": "2022-04-21T07:29:51.570053",
     "status": "completed"
    },
    "tags": []
   },
   "outputs": [
    {
     "data": {
      "text/plain": [
       "Bajaj Pulsar 150cc                                   2776\n",
       "Bajaj Avenger Street 220                             2531\n",
       "Bajaj Avenger 220cc                                  2060\n",
       "Royal Enfield Classic 350cc                          1673\n",
       "Hero Passion Pro 100cc                               1432\n",
       "                                                     ... \n",
       "Indian Chief Classic 1800cc                             1\n",
       "TVS Apache RTR 160cc White Race Edition Rear Disc       1\n",
       "Triumph Bonneville T100 900cc                           1\n",
       "Bajaj CT110 ES Alloy                                    1\n",
       "Yamaha FZS FI 150cc Special Edition                     1\n",
       "Name: bike_name, Length: 471, dtype: int64"
      ]
     },
     "execution_count": 13,
     "metadata": {},
     "output_type": "execute_result"
    }
   ],
   "source": [
    "Used_Bike_Price['bike_name'].value_counts()"
   ]
  },
  {
   "cell_type": "code",
   "execution_count": 14,
   "id": "6aecc76e",
   "metadata": {
    "execution": {
     "iopub.execute_input": "2022-04-21T07:29:51.782675Z",
     "iopub.status.busy": "2022-04-21T07:29:51.767067Z",
     "iopub.status.idle": "2022-04-21T07:29:51.789672Z",
     "shell.execute_reply": "2022-04-21T07:29:51.789001Z",
     "shell.execute_reply.started": "2022-04-21T07:20:41.826721Z"
    },
    "papermill": {
     "duration": 0.08658,
     "end_time": "2022-04-21T07:29:51.789813",
     "exception": false,
     "start_time": "2022-04-21T07:29:51.703233",
     "status": "completed"
    },
    "tags": []
   },
   "outputs": [],
   "source": [
    "Used_Bike_Price['bike_owner_no']=Used_Bike_Price['owner'].apply(lambda x:x.strip().split(' ')[0])"
   ]
  },
  {
   "cell_type": "code",
   "execution_count": 15,
   "id": "d61909c8",
   "metadata": {
    "execution": {
     "iopub.execute_input": "2022-04-21T07:29:51.925078Z",
     "iopub.status.busy": "2022-04-21T07:29:51.924152Z",
     "iopub.status.idle": "2022-04-21T07:29:51.928378Z",
     "shell.execute_reply": "2022-04-21T07:29:51.927782Z",
     "shell.execute_reply.started": "2022-04-21T07:20:41.861257Z"
    },
    "papermill": {
     "duration": 0.079295,
     "end_time": "2022-04-21T07:29:51.928524",
     "exception": false,
     "start_time": "2022-04-21T07:29:51.849229",
     "status": "completed"
    },
    "tags": []
   },
   "outputs": [
    {
     "data": {
      "text/html": [
       "<div>\n",
       "<style scoped>\n",
       "    .dataframe tbody tr th:only-of-type {\n",
       "        vertical-align: middle;\n",
       "    }\n",
       "\n",
       "    .dataframe tbody tr th {\n",
       "        vertical-align: top;\n",
       "    }\n",
       "\n",
       "    .dataframe thead th {\n",
       "        text-align: right;\n",
       "    }\n",
       "</style>\n",
       "<table border=\"1\" class=\"dataframe\">\n",
       "  <thead>\n",
       "    <tr style=\"text-align: right;\">\n",
       "      <th></th>\n",
       "      <th>bike_name</th>\n",
       "      <th>price</th>\n",
       "      <th>city</th>\n",
       "      <th>kms_driven</th>\n",
       "      <th>owner</th>\n",
       "      <th>age</th>\n",
       "      <th>power</th>\n",
       "      <th>brand</th>\n",
       "      <th>bike_owner_no</th>\n",
       "    </tr>\n",
       "  </thead>\n",
       "  <tbody>\n",
       "    <tr>\n",
       "      <th>0</th>\n",
       "      <td>TVS Star City Plus Dual Tone 110cc</td>\n",
       "      <td>35000.0</td>\n",
       "      <td>Ahmedabad</td>\n",
       "      <td>17654.0</td>\n",
       "      <td>First Owner</td>\n",
       "      <td>3.0</td>\n",
       "      <td>110.0</td>\n",
       "      <td>TVS</td>\n",
       "      <td>First</td>\n",
       "    </tr>\n",
       "    <tr>\n",
       "      <th>1</th>\n",
       "      <td>Royal Enfield Classic 350cc</td>\n",
       "      <td>119900.0</td>\n",
       "      <td>Delhi</td>\n",
       "      <td>11000.0</td>\n",
       "      <td>First Owner</td>\n",
       "      <td>4.0</td>\n",
       "      <td>350.0</td>\n",
       "      <td>Royal Enfield</td>\n",
       "      <td>First</td>\n",
       "    </tr>\n",
       "    <tr>\n",
       "      <th>2</th>\n",
       "      <td>Triumph Daytona 675R</td>\n",
       "      <td>600000.0</td>\n",
       "      <td>Delhi</td>\n",
       "      <td>110.0</td>\n",
       "      <td>First Owner</td>\n",
       "      <td>8.0</td>\n",
       "      <td>675.0</td>\n",
       "      <td>Triumph</td>\n",
       "      <td>First</td>\n",
       "    </tr>\n",
       "    <tr>\n",
       "      <th>3</th>\n",
       "      <td>TVS Apache RTR 180cc</td>\n",
       "      <td>65000.0</td>\n",
       "      <td>Bangalore</td>\n",
       "      <td>16329.0</td>\n",
       "      <td>First Owner</td>\n",
       "      <td>4.0</td>\n",
       "      <td>180.0</td>\n",
       "      <td>TVS</td>\n",
       "      <td>First</td>\n",
       "    </tr>\n",
       "    <tr>\n",
       "      <th>4</th>\n",
       "      <td>Yamaha FZ S V 2.0 150cc-Ltd. Edition</td>\n",
       "      <td>80000.0</td>\n",
       "      <td>Bangalore</td>\n",
       "      <td>10000.0</td>\n",
       "      <td>First Owner</td>\n",
       "      <td>3.0</td>\n",
       "      <td>150.0</td>\n",
       "      <td>Yamaha</td>\n",
       "      <td>First</td>\n",
       "    </tr>\n",
       "  </tbody>\n",
       "</table>\n",
       "</div>"
      ],
      "text/plain": [
       "                              bike_name     price       city  kms_driven  \\\n",
       "0    TVS Star City Plus Dual Tone 110cc   35000.0  Ahmedabad     17654.0   \n",
       "1           Royal Enfield Classic 350cc  119900.0      Delhi     11000.0   \n",
       "2                  Triumph Daytona 675R  600000.0      Delhi       110.0   \n",
       "3                  TVS Apache RTR 180cc   65000.0  Bangalore     16329.0   \n",
       "4  Yamaha FZ S V 2.0 150cc-Ltd. Edition   80000.0  Bangalore     10000.0   \n",
       "\n",
       "         owner  age  power          brand bike_owner_no  \n",
       "0  First Owner  3.0  110.0            TVS         First  \n",
       "1  First Owner  4.0  350.0  Royal Enfield         First  \n",
       "2  First Owner  8.0  675.0        Triumph         First  \n",
       "3  First Owner  4.0  180.0            TVS         First  \n",
       "4  First Owner  3.0  150.0         Yamaha         First  "
      ]
     },
     "execution_count": 15,
     "metadata": {},
     "output_type": "execute_result"
    }
   ],
   "source": [
    "Used_Bike_Price.head()"
   ]
  },
  {
   "cell_type": "code",
   "execution_count": 16,
   "id": "e72d0369",
   "metadata": {
    "execution": {
     "iopub.execute_input": "2022-04-21T07:29:52.054364Z",
     "iopub.status.busy": "2022-04-21T07:29:52.052243Z",
     "iopub.status.idle": "2022-04-21T07:29:52.061173Z",
     "shell.execute_reply": "2022-04-21T07:29:52.061850Z",
     "shell.execute_reply.started": "2022-04-21T07:20:41.881911Z"
    },
    "papermill": {
     "duration": 0.072878,
     "end_time": "2022-04-21T07:29:52.062028",
     "exception": false,
     "start_time": "2022-04-21T07:29:51.989150",
     "status": "completed"
    },
    "tags": []
   },
   "outputs": [],
   "source": [
    "Used_Bike_Price=Used_Bike_Price.drop(['owner'],axis=1)"
   ]
  },
  {
   "cell_type": "code",
   "execution_count": 17,
   "id": "05fc0400",
   "metadata": {
    "execution": {
     "iopub.execute_input": "2022-04-21T07:29:52.185266Z",
     "iopub.status.busy": "2022-04-21T07:29:52.184617Z",
     "iopub.status.idle": "2022-04-21T07:29:52.198598Z",
     "shell.execute_reply": "2022-04-21T07:29:52.199119Z",
     "shell.execute_reply.started": "2022-04-21T07:20:41.899573Z"
    },
    "papermill": {
     "duration": 0.077369,
     "end_time": "2022-04-21T07:29:52.199309",
     "exception": false,
     "start_time": "2022-04-21T07:29:52.121940",
     "status": "completed"
    },
    "tags": []
   },
   "outputs": [
    {
     "data": {
      "text/html": [
       "<div>\n",
       "<style scoped>\n",
       "    .dataframe tbody tr th:only-of-type {\n",
       "        vertical-align: middle;\n",
       "    }\n",
       "\n",
       "    .dataframe tbody tr th {\n",
       "        vertical-align: top;\n",
       "    }\n",
       "\n",
       "    .dataframe thead th {\n",
       "        text-align: right;\n",
       "    }\n",
       "</style>\n",
       "<table border=\"1\" class=\"dataframe\">\n",
       "  <thead>\n",
       "    <tr style=\"text-align: right;\">\n",
       "      <th></th>\n",
       "      <th>bike_name</th>\n",
       "      <th>price</th>\n",
       "      <th>city</th>\n",
       "      <th>kms_driven</th>\n",
       "      <th>age</th>\n",
       "      <th>power</th>\n",
       "      <th>brand</th>\n",
       "      <th>bike_owner_no</th>\n",
       "    </tr>\n",
       "  </thead>\n",
       "  <tbody>\n",
       "    <tr>\n",
       "      <th>0</th>\n",
       "      <td>TVS Star City Plus Dual Tone 110cc</td>\n",
       "      <td>35000.0</td>\n",
       "      <td>Ahmedabad</td>\n",
       "      <td>17654.0</td>\n",
       "      <td>3.0</td>\n",
       "      <td>110.0</td>\n",
       "      <td>TVS</td>\n",
       "      <td>First</td>\n",
       "    </tr>\n",
       "    <tr>\n",
       "      <th>1</th>\n",
       "      <td>Royal Enfield Classic 350cc</td>\n",
       "      <td>119900.0</td>\n",
       "      <td>Delhi</td>\n",
       "      <td>11000.0</td>\n",
       "      <td>4.0</td>\n",
       "      <td>350.0</td>\n",
       "      <td>Royal Enfield</td>\n",
       "      <td>First</td>\n",
       "    </tr>\n",
       "    <tr>\n",
       "      <th>2</th>\n",
       "      <td>Triumph Daytona 675R</td>\n",
       "      <td>600000.0</td>\n",
       "      <td>Delhi</td>\n",
       "      <td>110.0</td>\n",
       "      <td>8.0</td>\n",
       "      <td>675.0</td>\n",
       "      <td>Triumph</td>\n",
       "      <td>First</td>\n",
       "    </tr>\n",
       "    <tr>\n",
       "      <th>3</th>\n",
       "      <td>TVS Apache RTR 180cc</td>\n",
       "      <td>65000.0</td>\n",
       "      <td>Bangalore</td>\n",
       "      <td>16329.0</td>\n",
       "      <td>4.0</td>\n",
       "      <td>180.0</td>\n",
       "      <td>TVS</td>\n",
       "      <td>First</td>\n",
       "    </tr>\n",
       "    <tr>\n",
       "      <th>4</th>\n",
       "      <td>Yamaha FZ S V 2.0 150cc-Ltd. Edition</td>\n",
       "      <td>80000.0</td>\n",
       "      <td>Bangalore</td>\n",
       "      <td>10000.0</td>\n",
       "      <td>3.0</td>\n",
       "      <td>150.0</td>\n",
       "      <td>Yamaha</td>\n",
       "      <td>First</td>\n",
       "    </tr>\n",
       "  </tbody>\n",
       "</table>\n",
       "</div>"
      ],
      "text/plain": [
       "                              bike_name     price       city  kms_driven  age  \\\n",
       "0    TVS Star City Plus Dual Tone 110cc   35000.0  Ahmedabad     17654.0  3.0   \n",
       "1           Royal Enfield Classic 350cc  119900.0      Delhi     11000.0  4.0   \n",
       "2                  Triumph Daytona 675R  600000.0      Delhi       110.0  8.0   \n",
       "3                  TVS Apache RTR 180cc   65000.0  Bangalore     16329.0  4.0   \n",
       "4  Yamaha FZ S V 2.0 150cc-Ltd. Edition   80000.0  Bangalore     10000.0  3.0   \n",
       "\n",
       "   power          brand bike_owner_no  \n",
       "0  110.0            TVS         First  \n",
       "1  350.0  Royal Enfield         First  \n",
       "2  675.0        Triumph         First  \n",
       "3  180.0            TVS         First  \n",
       "4  150.0         Yamaha         First  "
      ]
     },
     "execution_count": 17,
     "metadata": {},
     "output_type": "execute_result"
    }
   ],
   "source": [
    "Used_Bike_Price.head()"
   ]
  },
  {
   "cell_type": "code",
   "execution_count": 18,
   "id": "8e0f9196",
   "metadata": {
    "execution": {
     "iopub.execute_input": "2022-04-21T07:29:52.325083Z",
     "iopub.status.busy": "2022-04-21T07:29:52.324383Z",
     "iopub.status.idle": "2022-04-21T07:29:52.335097Z",
     "shell.execute_reply": "2022-04-21T07:29:52.335596Z",
     "shell.execute_reply.started": "2022-04-21T07:20:41.919834Z"
    },
    "papermill": {
     "duration": 0.075297,
     "end_time": "2022-04-21T07:29:52.335784",
     "exception": false,
     "start_time": "2022-04-21T07:29:52.260487",
     "status": "completed"
    },
    "tags": []
   },
   "outputs": [
    {
     "data": {
      "text/plain": [
       "Bajaj Pulsar 150cc                                   2776\n",
       "Bajaj Avenger Street 220                             2531\n",
       "Bajaj Avenger 220cc                                  2060\n",
       "Royal Enfield Classic 350cc                          1673\n",
       "Hero Passion Pro 100cc                               1432\n",
       "                                                     ... \n",
       "Indian Chief Classic 1800cc                             1\n",
       "TVS Apache RTR 160cc White Race Edition Rear Disc       1\n",
       "Triumph Bonneville T100 900cc                           1\n",
       "Bajaj CT110 ES Alloy                                    1\n",
       "Yamaha FZS FI 150cc Special Edition                     1\n",
       "Name: bike_name, Length: 471, dtype: int64"
      ]
     },
     "execution_count": 18,
     "metadata": {},
     "output_type": "execute_result"
    }
   ],
   "source": [
    "Used_Bike_Price['bike_name'].value_counts()"
   ]
  },
  {
   "cell_type": "markdown",
   "id": "01b0b8fe",
   "metadata": {
    "papermill": {
     "duration": 0.060375,
     "end_time": "2022-04-21T07:29:52.458452",
     "exception": false,
     "start_time": "2022-04-21T07:29:52.398077",
     "status": "completed"
    },
    "tags": []
   },
   "source": [
    "# DATA VISUALIZATION"
   ]
  },
  {
   "cell_type": "markdown",
   "id": "07e5277e",
   "metadata": {
    "papermill": {
     "duration": 0.060558,
     "end_time": "2022-04-21T07:29:52.579737",
     "exception": false,
     "start_time": "2022-04-21T07:29:52.519179",
     "status": "completed"
    },
    "tags": []
   },
   "source": [
    "# Owners vs Price"
   ]
  },
  {
   "cell_type": "code",
   "execution_count": 19,
   "id": "88992c44",
   "metadata": {
    "execution": {
     "iopub.execute_input": "2022-04-21T07:29:52.704740Z",
     "iopub.status.busy": "2022-04-21T07:29:52.704079Z",
     "iopub.status.idle": "2022-04-21T07:29:53.028037Z",
     "shell.execute_reply": "2022-04-21T07:29:53.028542Z",
     "shell.execute_reply.started": "2022-04-21T07:20:41.934468Z"
    },
    "papermill": {
     "duration": 0.388243,
     "end_time": "2022-04-21T07:29:53.028744",
     "exception": false,
     "start_time": "2022-04-21T07:29:52.640501",
     "status": "completed"
    },
    "tags": []
   },
   "outputs": [
    {
     "data": {
      "text/plain": [
       "<AxesSubplot:xlabel='price', ylabel='bike_owner_no'>"
      ]
     },
     "execution_count": 19,
     "metadata": {},
     "output_type": "execute_result"
    },
    {
     "data": {
      "image/png": "[encoded data removed]",
      "text/plain": [
       "<Figure size 432x288 with 1 Axes>"
      ]
     },
     "metadata": {
      "needs_background": "light"
     },
     "output_type": "display_data"
    }
   ],
   "source": [
    "sns.boxenplot(x=\"price\",y=\"bike_owner_no\",data=Used_Bike_Price)"
   ]
  },
  {
   "cell_type": "markdown",
   "id": "d49db831",
   "metadata": {
    "papermill": {
     "duration": 0.063952,
     "end_time": "2022-04-21T07:29:53.155601",
     "exception": false,
     "start_time": "2022-04-21T07:29:53.091649",
     "status": "completed"
    },
    "tags": []
   },
   "source": [
    "# Brand vs Price"
   ]
  },
  {
   "cell_type": "code",
   "execution_count": 20,
   "id": "7030590f",
   "metadata": {
    "execution": {
     "iopub.execute_input": "2022-04-21T07:29:53.282728Z",
     "iopub.status.busy": "2022-04-21T07:29:53.282056Z",
     "iopub.status.idle": "2022-04-21T07:29:54.005911Z",
     "shell.execute_reply": "2022-04-21T07:29:54.005312Z",
     "shell.execute_reply.started": "2022-04-21T07:23:54.487093Z"
    },
    "papermill": {
     "duration": 0.788569,
     "end_time": "2022-04-21T07:29:54.006057",
     "exception": false,
     "start_time": "2022-04-21T07:29:53.217488",
     "status": "completed"
    },
    "tags": []
   },
   "outputs": [
    {
     "data": {
      "text/plain": [
       "<AxesSubplot:xlabel='brand', ylabel='price'>"
      ]
     },
     "execution_count": 20,
     "metadata": {},
     "output_type": "execute_result"
    },
    {
     "data": {
      "image/png": "[encoded data removed]",
      "text/plain": [
       "<Figure size 1440x720 with 1 Axes>"
      ]
     },
     "metadata": {
      "needs_background": "light"
     },
     "output_type": "display_data"
    }
   ],
   "source": [
    "plt.figure(figsize = (20,10))\n",
    "sns.boxplot(x=\"brand\",y=\"price\",data=Used_Bike_Price)"
   ]
  },
  {
   "cell_type": "markdown",
   "id": "87cc9557",
   "metadata": {
    "papermill": {
     "duration": 0.062821,
     "end_time": "2022-04-21T07:29:54.134316",
     "exception": false,
     "start_time": "2022-04-21T07:29:54.071495",
     "status": "completed"
    },
    "tags": []
   },
   "source": [
    "# Kilometers Driven VS Price"
   ]
  },
  {
   "cell_type": "code",
   "execution_count": 21,
   "id": "07fd1300",
   "metadata": {
    "execution": {
     "iopub.execute_input": "2022-04-21T07:29:54.265712Z",
     "iopub.status.busy": "2022-04-21T07:29:54.265040Z",
     "iopub.status.idle": "2022-04-21T07:30:12.959235Z",
     "shell.execute_reply": "2022-04-21T07:30:12.958697Z",
     "shell.execute_reply.started": "2022-04-21T07:20:44.329638Z"
    },
    "papermill": {
     "duration": 18.760715,
     "end_time": "2022-04-21T07:30:12.959390",
     "exception": false,
     "start_time": "2022-04-21T07:29:54.198675",
     "status": "completed"
    },
    "tags": []
   },
   "outputs": [
    {
     "data": {
      "text/plain": [
       "<AxesSubplot:xlabel='price', ylabel='kms_driven'>"
      ]
     },
     "execution_count": 21,
     "metadata": {},
     "output_type": "execute_result"
    },
    {
     "data": {
      "image/png": "[encoded data removed]",
      "text/plain": [
       "<Figure size 432x288 with 1 Axes>"
      ]
     },
     "metadata": {
      "needs_background": "light"
     },
     "output_type": "display_data"
    }
   ],
   "source": [
    "#used bike price based on kms driven\n",
    "sns.lineplot(x=\"price\",y=\"kms_driven\",data=Used_Bike_Price )"
   ]
  },
  {
   "cell_type": "markdown",
   "id": "d9bcc745",
   "metadata": {
    "papermill": {
     "duration": 0.066249,
     "end_time": "2022-04-21T07:30:13.091266",
     "exception": false,
     "start_time": "2022-04-21T07:30:13.025017",
     "status": "completed"
    },
    "tags": []
   },
   "source": [
    "# Power VS Price"
   ]
  },
  {
   "cell_type": "code",
   "execution_count": 22,
   "id": "599b7697",
   "metadata": {
    "execution": {
     "iopub.execute_input": "2022-04-21T07:30:13.224104Z",
     "iopub.status.busy": "2022-04-21T07:30:13.223454Z",
     "iopub.status.idle": "2022-04-21T07:30:14.529246Z",
     "shell.execute_reply": "2022-04-21T07:30:14.528663Z",
     "shell.execute_reply.started": "2022-04-21T07:25:58.108205Z"
    },
    "papermill": {
     "duration": 1.372743,
     "end_time": "2022-04-21T07:30:14.529392",
     "exception": false,
     "start_time": "2022-04-21T07:30:13.156649",
     "status": "completed"
    },
    "tags": []
   },
   "outputs": [
    {
     "data": {
      "text/plain": [
       "<AxesSubplot:xlabel='age', ylabel='price'>"
      ]
     },
     "execution_count": 22,
     "metadata": {},
     "output_type": "execute_result"
    },
    {
     "data": {
      "image/png": "[encoded data removed]",
      "text/plain": [
       "<Figure size 1440x720 with 1 Axes>"
      ]
     },
     "metadata": {
      "needs_background": "light"
     },
     "output_type": "display_data"
    }
   ],
   "source": [
    "#used bike price based on age\n",
    "plt.figure(figsize = (20,10))\n",
    "sns.lineplot(x='age',y='price',data=Used_Bike_Price)"
   ]
  },
  {
   "cell_type": "code",
   "execution_count": 23,
   "id": "537a7cf1",
   "metadata": {
    "execution": {
     "iopub.execute_input": "2022-04-21T07:30:14.667782Z",
     "iopub.status.busy": "2022-04-21T07:30:14.667100Z",
     "iopub.status.idle": "2022-04-21T07:30:23.582649Z",
     "shell.execute_reply": "2022-04-21T07:30:23.583157Z",
     "shell.execute_reply.started": "2022-04-21T07:21:04.260950Z"
    },
    "papermill": {
     "duration": 8.9854,
     "end_time": "2022-04-21T07:30:23.583320",
     "exception": false,
     "start_time": "2022-04-21T07:30:14.597920",
     "status": "completed"
    },
    "tags": []
   },
   "outputs": [
    {
     "data": {
      "text/plain": [
       "<seaborn.axisgrid.PairGrid at 0x7ffb5e29ac50>"
      ]
     },
     "execution_count": 23,
     "metadata": {},
     "output_type": "execute_result"
    },
    {
     "data": {
      "image/png": "[encoded data removed]",
      "text/plain": [
       "<Figure size 720x720 with 20 Axes>"
      ]
     },
     "metadata": {
      "needs_background": "light"
     },
     "output_type": "display_data"
    }
   ],
   "source": [
    "#Plotting the pair plots of the dataset\n",
    "sns.pairplot(Used_Bike_Price)"
   ]
  },
  {
   "cell_type": "markdown",
   "id": "67114e61",
   "metadata": {
    "papermill": {
     "duration": 0.071579,
     "end_time": "2022-04-21T07:30:23.725390",
     "exception": false,
     "start_time": "2022-04-21T07:30:23.653811",
     "status": "completed"
    },
    "tags": []
   },
   "source": [
    "# Data Correlation"
   ]
  },
  {
   "cell_type": "code",
   "execution_count": 24,
   "id": "e1f2faf1",
   "metadata": {
    "execution": {
     "iopub.execute_input": "2022-04-21T07:30:23.870196Z",
     "iopub.status.busy": "2022-04-21T07:30:23.869171Z",
     "iopub.status.idle": "2022-04-21T07:30:24.267437Z",
     "shell.execute_reply": "2022-04-21T07:30:24.268000Z",
     "shell.execute_reply.started": "2022-04-21T07:21:13.115894Z"
    },
    "papermill": {
     "duration": 0.472069,
     "end_time": "2022-04-21T07:30:24.268179",
     "exception": false,
     "start_time": "2022-04-21T07:30:23.796110",
     "status": "completed"
    },
    "tags": []
   },
   "outputs": [
    {
     "data": {
      "text/plain": [
       "<function matplotlib.pyplot.show(close=None, block=None)>"
      ]
     },
     "execution_count": 24,
     "metadata": {},
     "output_type": "execute_result"
    },
    {
     "data": {
      "image/png": "[encoded data removed]",
      "text/plain": [
       "<Figure size 1440x1440 with 2 Axes>"
      ]
     },
     "metadata": {
      "needs_background": "light"
     },
     "output_type": "display_data"
    }
   ],
   "source": [
    "plt.figure(figsize=(20,20))\n",
    "sns.heatmap(Used_Bike_Price.corr(),cmap=\"YlGnBu\",annot=True)\n",
    "plt.show"
   ]
  },
  {
   "cell_type": "code",
   "execution_count": 25,
   "id": "a2bd46bd",
   "metadata": {
    "execution": {
     "iopub.execute_input": "2022-04-21T07:30:24.435471Z",
     "iopub.status.busy": "2022-04-21T07:30:24.434607Z",
     "iopub.status.idle": "2022-04-21T07:30:24.439099Z",
     "shell.execute_reply": "2022-04-21T07:30:24.438396Z",
     "shell.execute_reply.started": "2022-04-21T07:21:13.479307Z"
    },
    "papermill": {
     "duration": 0.098775,
     "end_time": "2022-04-21T07:30:24.439245",
     "exception": false,
     "start_time": "2022-04-21T07:30:24.340470",
     "status": "completed"
    },
    "tags": []
   },
   "outputs": [
    {
     "data": {
      "text/html": [
       "<div>\n",
       "<style scoped>\n",
       "    .dataframe tbody tr th:only-of-type {\n",
       "        vertical-align: middle;\n",
       "    }\n",
       "\n",
       "    .dataframe tbody tr th {\n",
       "        vertical-align: top;\n",
       "    }\n",
       "\n",
       "    .dataframe thead th {\n",
       "        text-align: right;\n",
       "    }\n",
       "</style>\n",
       "<table border=\"1\" class=\"dataframe\">\n",
       "  <thead>\n",
       "    <tr style=\"text-align: right;\">\n",
       "      <th></th>\n",
       "      <th>bike_name</th>\n",
       "      <th>price</th>\n",
       "      <th>city</th>\n",
       "      <th>kms_driven</th>\n",
       "      <th>age</th>\n",
       "      <th>power</th>\n",
       "      <th>brand</th>\n",
       "      <th>bike_owner_no</th>\n",
       "    </tr>\n",
       "  </thead>\n",
       "  <tbody>\n",
       "    <tr>\n",
       "      <th>0</th>\n",
       "      <td>TVS Star City Plus Dual Tone 110cc</td>\n",
       "      <td>35000.0</td>\n",
       "      <td>Ahmedabad</td>\n",
       "      <td>17654.0</td>\n",
       "      <td>3.0</td>\n",
       "      <td>110.0</td>\n",
       "      <td>TVS</td>\n",
       "      <td>First</td>\n",
       "    </tr>\n",
       "    <tr>\n",
       "      <th>1</th>\n",
       "      <td>Royal Enfield Classic 350cc</td>\n",
       "      <td>119900.0</td>\n",
       "      <td>Delhi</td>\n",
       "      <td>11000.0</td>\n",
       "      <td>4.0</td>\n",
       "      <td>350.0</td>\n",
       "      <td>Royal Enfield</td>\n",
       "      <td>First</td>\n",
       "    </tr>\n",
       "    <tr>\n",
       "      <th>2</th>\n",
       "      <td>Triumph Daytona 675R</td>\n",
       "      <td>600000.0</td>\n",
       "      <td>Delhi</td>\n",
       "      <td>110.0</td>\n",
       "      <td>8.0</td>\n",
       "      <td>675.0</td>\n",
       "      <td>Triumph</td>\n",
       "      <td>First</td>\n",
       "    </tr>\n",
       "    <tr>\n",
       "      <th>3</th>\n",
       "      <td>TVS Apache RTR 180cc</td>\n",
       "      <td>65000.0</td>\n",
       "      <td>Bangalore</td>\n",
       "      <td>16329.0</td>\n",
       "      <td>4.0</td>\n",
       "      <td>180.0</td>\n",
       "      <td>TVS</td>\n",
       "      <td>First</td>\n",
       "    </tr>\n",
       "    <tr>\n",
       "      <th>4</th>\n",
       "      <td>Yamaha FZ S V 2.0 150cc-Ltd. Edition</td>\n",
       "      <td>80000.0</td>\n",
       "      <td>Bangalore</td>\n",
       "      <td>10000.0</td>\n",
       "      <td>3.0</td>\n",
       "      <td>150.0</td>\n",
       "      <td>Yamaha</td>\n",
       "      <td>First</td>\n",
       "    </tr>\n",
       "    <tr>\n",
       "      <th>...</th>\n",
       "      <td>...</td>\n",
       "      <td>...</td>\n",
       "      <td>...</td>\n",
       "      <td>...</td>\n",
       "      <td>...</td>\n",
       "      <td>...</td>\n",
       "      <td>...</td>\n",
       "      <td>...</td>\n",
       "    </tr>\n",
       "    <tr>\n",
       "      <th>32643</th>\n",
       "      <td>Hero Passion Pro 100cc</td>\n",
       "      <td>39000.0</td>\n",
       "      <td>Delhi</td>\n",
       "      <td>22000.0</td>\n",
       "      <td>4.0</td>\n",
       "      <td>100.0</td>\n",
       "      <td>Hero</td>\n",
       "      <td>First</td>\n",
       "    </tr>\n",
       "    <tr>\n",
       "      <th>32644</th>\n",
       "      <td>TVS Apache RTR 180cc</td>\n",
       "      <td>30000.0</td>\n",
       "      <td>Karnal</td>\n",
       "      <td>6639.0</td>\n",
       "      <td>9.0</td>\n",
       "      <td>180.0</td>\n",
       "      <td>TVS</td>\n",
       "      <td>First</td>\n",
       "    </tr>\n",
       "    <tr>\n",
       "      <th>32645</th>\n",
       "      <td>Bajaj Avenger Street 220</td>\n",
       "      <td>60000.0</td>\n",
       "      <td>Delhi</td>\n",
       "      <td>20373.0</td>\n",
       "      <td>6.0</td>\n",
       "      <td>220.0</td>\n",
       "      <td>Bajaj</td>\n",
       "      <td>First</td>\n",
       "    </tr>\n",
       "    <tr>\n",
       "      <th>32646</th>\n",
       "      <td>Hero Super Splendor 125cc</td>\n",
       "      <td>15600.0</td>\n",
       "      <td>Jaipur</td>\n",
       "      <td>84186.0</td>\n",
       "      <td>16.0</td>\n",
       "      <td>125.0</td>\n",
       "      <td>Hero</td>\n",
       "      <td>First</td>\n",
       "    </tr>\n",
       "    <tr>\n",
       "      <th>32647</th>\n",
       "      <td>Bajaj Pulsar 150cc</td>\n",
       "      <td>22000.0</td>\n",
       "      <td>Pune</td>\n",
       "      <td>60857.0</td>\n",
       "      <td>13.0</td>\n",
       "      <td>150.0</td>\n",
       "      <td>Bajaj</td>\n",
       "      <td>First</td>\n",
       "    </tr>\n",
       "  </tbody>\n",
       "</table>\n",
       "<p>32648 rows × 8 columns</p>\n",
       "</div>"
      ],
      "text/plain": [
       "                                  bike_name     price       city  kms_driven  \\\n",
       "0        TVS Star City Plus Dual Tone 110cc   35000.0  Ahmedabad     17654.0   \n",
       "1               Royal Enfield Classic 350cc  119900.0      Delhi     11000.0   \n",
       "2                      Triumph Daytona 675R  600000.0      Delhi       110.0   \n",
       "3                      TVS Apache RTR 180cc   65000.0  Bangalore     16329.0   \n",
       "4      Yamaha FZ S V 2.0 150cc-Ltd. Edition   80000.0  Bangalore     10000.0   \n",
       "...                                     ...       ...        ...         ...   \n",
       "32643                Hero Passion Pro 100cc   39000.0      Delhi     22000.0   \n",
       "32644                  TVS Apache RTR 180cc   30000.0     Karnal      6639.0   \n",
       "32645              Bajaj Avenger Street 220   60000.0      Delhi     20373.0   \n",
       "32646             Hero Super Splendor 125cc   15600.0     Jaipur     84186.0   \n",
       "32647                    Bajaj Pulsar 150cc   22000.0       Pune     60857.0   \n",
       "\n",
       "        age  power          brand bike_owner_no  \n",
       "0       3.0  110.0            TVS         First  \n",
       "1       4.0  350.0  Royal Enfield         First  \n",
       "2       8.0  675.0        Triumph         First  \n",
       "3       4.0  180.0            TVS         First  \n",
       "4       3.0  150.0         Yamaha         First  \n",
       "...     ...    ...            ...           ...  \n",
       "32643   4.0  100.0           Hero         First  \n",
       "32644   9.0  180.0            TVS         First  \n",
       "32645   6.0  220.0          Bajaj         First  \n",
       "32646  16.0  125.0           Hero         First  \n",
       "32647  13.0  150.0          Bajaj         First  \n",
       "\n",
       "[32648 rows x 8 columns]"
      ]
     },
     "execution_count": 25,
     "metadata": {},
     "output_type": "execute_result"
    }
   ],
   "source": [
    "Used_Bike_Price"
   ]
  },
  {
   "cell_type": "code",
   "execution_count": 26,
   "id": "191020ba",
   "metadata": {
    "execution": {
     "iopub.execute_input": "2022-04-21T07:30:24.619707Z",
     "iopub.status.busy": "2022-04-21T07:30:24.619014Z",
     "iopub.status.idle": "2022-04-21T07:30:24.630105Z",
     "shell.execute_reply": "2022-04-21T07:30:24.629399Z",
     "shell.execute_reply.started": "2022-04-21T07:21:13.503894Z"
    },
    "papermill": {
     "duration": 0.106265,
     "end_time": "2022-04-21T07:30:24.630269",
     "exception": false,
     "start_time": "2022-04-21T07:30:24.524004",
     "status": "completed"
    },
    "tags": []
   },
   "outputs": [
    {
     "name": "stdout",
     "output_type": "stream",
     "text": [
      "<class 'pandas.core.frame.DataFrame'>\n",
      "RangeIndex: 32648 entries, 0 to 32647\n",
      "Data columns (total 7 columns):\n",
      " #   Column         Non-Null Count  Dtype  \n",
      "---  ------         --------------  -----  \n",
      " 0   price          32648 non-null  float64\n",
      " 1   city           32648 non-null  object \n",
      " 2   kms_driven     32648 non-null  float64\n",
      " 3   age            32648 non-null  float64\n",
      " 4   power          32648 non-null  float64\n",
      " 5   brand          32648 non-null  object \n",
      " 6   bike_owner_no  32648 non-null  object \n",
      "dtypes: float64(4), object(3)\n",
      "memory usage: 1.7+ MB\n"
     ]
    }
   ],
   "source": [
    "used_bike_price=Used_Bike_Price.drop(['bike_name'],axis=1)\n",
    "used_bike_price\n",
    "used_bike_price.info()"
   ]
  },
  {
   "cell_type": "code",
   "execution_count": 27,
   "id": "851e63ae",
   "metadata": {
    "execution": {
     "iopub.execute_input": "2022-04-21T07:30:24.783206Z",
     "iopub.status.busy": "2022-04-21T07:30:24.782193Z",
     "iopub.status.idle": "2022-04-21T07:30:24.791692Z",
     "shell.execute_reply": "2022-04-21T07:30:24.792147Z",
     "shell.execute_reply.started": "2022-04-21T07:21:13.537850Z"
    },
    "papermill": {
     "duration": 0.088484,
     "end_time": "2022-04-21T07:30:24.792319",
     "exception": false,
     "start_time": "2022-04-21T07:30:24.703835",
     "status": "completed"
    },
    "tags": []
   },
   "outputs": [
    {
     "data": {
      "text/html": [
       "<div>\n",
       "<style scoped>\n",
       "    .dataframe tbody tr th:only-of-type {\n",
       "        vertical-align: middle;\n",
       "    }\n",
       "\n",
       "    .dataframe tbody tr th {\n",
       "        vertical-align: top;\n",
       "    }\n",
       "\n",
       "    .dataframe thead th {\n",
       "        text-align: right;\n",
       "    }\n",
       "</style>\n",
       "<table border=\"1\" class=\"dataframe\">\n",
       "  <thead>\n",
       "    <tr style=\"text-align: right;\">\n",
       "      <th></th>\n",
       "      <th>city</th>\n",
       "      <th>brand</th>\n",
       "      <th>bike_owner_no</th>\n",
       "    </tr>\n",
       "  </thead>\n",
       "  <tbody>\n",
       "    <tr>\n",
       "      <th>0</th>\n",
       "      <td>Ahmedabad</td>\n",
       "      <td>TVS</td>\n",
       "      <td>First</td>\n",
       "    </tr>\n",
       "    <tr>\n",
       "      <th>1</th>\n",
       "      <td>Delhi</td>\n",
       "      <td>Royal Enfield</td>\n",
       "      <td>First</td>\n",
       "    </tr>\n",
       "    <tr>\n",
       "      <th>2</th>\n",
       "      <td>Delhi</td>\n",
       "      <td>Triumph</td>\n",
       "      <td>First</td>\n",
       "    </tr>\n",
       "    <tr>\n",
       "      <th>3</th>\n",
       "      <td>Bangalore</td>\n",
       "      <td>TVS</td>\n",
       "      <td>First</td>\n",
       "    </tr>\n",
       "    <tr>\n",
       "      <th>4</th>\n",
       "      <td>Bangalore</td>\n",
       "      <td>Yamaha</td>\n",
       "      <td>First</td>\n",
       "    </tr>\n",
       "  </tbody>\n",
       "</table>\n",
       "</div>"
      ],
      "text/plain": [
       "        city          brand bike_owner_no\n",
       "0  Ahmedabad            TVS         First\n",
       "1      Delhi  Royal Enfield         First\n",
       "2      Delhi        Triumph         First\n",
       "3  Bangalore            TVS         First\n",
       "4  Bangalore         Yamaha         First"
      ]
     },
     "execution_count": 27,
     "metadata": {},
     "output_type": "execute_result"
    }
   ],
   "source": [
    "variables=used_bike_price.select_dtypes(include=['object'])\n",
    "variables.head()"
   ]
  },
  {
   "cell_type": "code",
   "execution_count": null,
   "id": "6dda14e9",
   "metadata": {
    "papermill": {
     "duration": 0.074333,
     "end_time": "2022-04-21T07:30:24.941070",
     "exception": false,
     "start_time": "2022-04-21T07:30:24.866737",
     "status": "completed"
    },
    "tags": []
   },
   "outputs": [],
   "source": []
  },
  {
   "cell_type": "code",
   "execution_count": 28,
   "id": "ac8b0282",
   "metadata": {
    "execution": {
     "iopub.execute_input": "2022-04-21T07:30:25.091915Z",
     "iopub.status.busy": "2022-04-21T07:30:25.090914Z",
     "iopub.status.idle": "2022-04-21T07:30:25.159235Z",
     "shell.execute_reply": "2022-04-21T07:30:25.159713Z",
     "shell.execute_reply.started": "2022-04-21T07:21:13.552853Z"
    },
    "papermill": {
     "duration": 0.144785,
     "end_time": "2022-04-21T07:30:25.159887",
     "exception": false,
     "start_time": "2022-04-21T07:30:25.015102",
     "status": "completed"
    },
    "tags": []
   },
   "outputs": [
    {
     "data": {
      "text/html": [
       "<div>\n",
       "<style scoped>\n",
       "    .dataframe tbody tr th:only-of-type {\n",
       "        vertical-align: middle;\n",
       "    }\n",
       "\n",
       "    .dataframe tbody tr th {\n",
       "        vertical-align: top;\n",
       "    }\n",
       "\n",
       "    .dataframe thead th {\n",
       "        text-align: right;\n",
       "    }\n",
       "</style>\n",
       "<table border=\"1\" class=\"dataframe\">\n",
       "  <thead>\n",
       "    <tr style=\"text-align: right;\">\n",
       "      <th></th>\n",
       "      <th>city_24 Pargana</th>\n",
       "      <th>city_Abohar</th>\n",
       "      <th>city_Adalaj</th>\n",
       "      <th>city_Adoni</th>\n",
       "      <th>city_Adyar</th>\n",
       "      <th>city_Agra</th>\n",
       "      <th>city_Ahmedabad</th>\n",
       "      <th>city_Ahmednagar</th>\n",
       "      <th>city_Ajmer</th>\n",
       "      <th>city_Akot</th>\n",
       "      <th>...</th>\n",
       "      <th>brand_Royal Enfield</th>\n",
       "      <th>brand_Suzuki</th>\n",
       "      <th>brand_TVS</th>\n",
       "      <th>brand_Triumph</th>\n",
       "      <th>brand_Yamaha</th>\n",
       "      <th>brand_Yezdi</th>\n",
       "      <th>bike_owner_no_First</th>\n",
       "      <th>bike_owner_no_Fourth</th>\n",
       "      <th>bike_owner_no_Second</th>\n",
       "      <th>bike_owner_no_Third</th>\n",
       "    </tr>\n",
       "  </thead>\n",
       "  <tbody>\n",
       "    <tr>\n",
       "      <th>0</th>\n",
       "      <td>0</td>\n",
       "      <td>0</td>\n",
       "      <td>0</td>\n",
       "      <td>0</td>\n",
       "      <td>0</td>\n",
       "      <td>0</td>\n",
       "      <td>1</td>\n",
       "      <td>0</td>\n",
       "      <td>0</td>\n",
       "      <td>0</td>\n",
       "      <td>...</td>\n",
       "      <td>0</td>\n",
       "      <td>0</td>\n",
       "      <td>1</td>\n",
       "      <td>0</td>\n",
       "      <td>0</td>\n",
       "      <td>0</td>\n",
       "      <td>1</td>\n",
       "      <td>0</td>\n",
       "      <td>0</td>\n",
       "      <td>0</td>\n",
       "    </tr>\n",
       "    <tr>\n",
       "      <th>1</th>\n",
       "      <td>0</td>\n",
       "      <td>0</td>\n",
       "      <td>0</td>\n",
       "      <td>0</td>\n",
       "      <td>0</td>\n",
       "      <td>0</td>\n",
       "      <td>0</td>\n",
       "      <td>0</td>\n",
       "      <td>0</td>\n",
       "      <td>0</td>\n",
       "      <td>...</td>\n",
       "      <td>1</td>\n",
       "      <td>0</td>\n",
       "      <td>0</td>\n",
       "      <td>0</td>\n",
       "      <td>0</td>\n",
       "      <td>0</td>\n",
       "      <td>1</td>\n",
       "      <td>0</td>\n",
       "      <td>0</td>\n",
       "      <td>0</td>\n",
       "    </tr>\n",
       "    <tr>\n",
       "      <th>2</th>\n",
       "      <td>0</td>\n",
       "      <td>0</td>\n",
       "      <td>0</td>\n",
       "      <td>0</td>\n",
       "      <td>0</td>\n",
       "      <td>0</td>\n",
       "      <td>0</td>\n",
       "      <td>0</td>\n",
       "      <td>0</td>\n",
       "      <td>0</td>\n",
       "      <td>...</td>\n",
       "      <td>0</td>\n",
       "      <td>0</td>\n",
       "      <td>0</td>\n",
       "      <td>1</td>\n",
       "      <td>0</td>\n",
       "      <td>0</td>\n",
       "      <td>1</td>\n",
       "      <td>0</td>\n",
       "      <td>0</td>\n",
       "      <td>0</td>\n",
       "    </tr>\n",
       "    <tr>\n",
       "      <th>3</th>\n",
       "      <td>0</td>\n",
       "      <td>0</td>\n",
       "      <td>0</td>\n",
       "      <td>0</td>\n",
       "      <td>0</td>\n",
       "      <td>0</td>\n",
       "      <td>0</td>\n",
       "      <td>0</td>\n",
       "      <td>0</td>\n",
       "      <td>0</td>\n",
       "      <td>...</td>\n",
       "      <td>0</td>\n",
       "      <td>0</td>\n",
       "      <td>1</td>\n",
       "      <td>0</td>\n",
       "      <td>0</td>\n",
       "      <td>0</td>\n",
       "      <td>1</td>\n",
       "      <td>0</td>\n",
       "      <td>0</td>\n",
       "      <td>0</td>\n",
       "    </tr>\n",
       "    <tr>\n",
       "      <th>4</th>\n",
       "      <td>0</td>\n",
       "      <td>0</td>\n",
       "      <td>0</td>\n",
       "      <td>0</td>\n",
       "      <td>0</td>\n",
       "      <td>0</td>\n",
       "      <td>0</td>\n",
       "      <td>0</td>\n",
       "      <td>0</td>\n",
       "      <td>0</td>\n",
       "      <td>...</td>\n",
       "      <td>0</td>\n",
       "      <td>0</td>\n",
       "      <td>0</td>\n",
       "      <td>0</td>\n",
       "      <td>1</td>\n",
       "      <td>0</td>\n",
       "      <td>1</td>\n",
       "      <td>0</td>\n",
       "      <td>0</td>\n",
       "      <td>0</td>\n",
       "    </tr>\n",
       "    <tr>\n",
       "      <th>...</th>\n",
       "      <td>...</td>\n",
       "      <td>...</td>\n",
       "      <td>...</td>\n",
       "      <td>...</td>\n",
       "      <td>...</td>\n",
       "      <td>...</td>\n",
       "      <td>...</td>\n",
       "      <td>...</td>\n",
       "      <td>...</td>\n",
       "      <td>...</td>\n",
       "      <td>...</td>\n",
       "      <td>...</td>\n",
       "      <td>...</td>\n",
       "      <td>...</td>\n",
       "      <td>...</td>\n",
       "      <td>...</td>\n",
       "      <td>...</td>\n",
       "      <td>...</td>\n",
       "      <td>...</td>\n",
       "      <td>...</td>\n",
       "      <td>...</td>\n",
       "    </tr>\n",
       "    <tr>\n",
       "      <th>32643</th>\n",
       "      <td>0</td>\n",
       "      <td>0</td>\n",
       "      <td>0</td>\n",
       "      <td>0</td>\n",
       "      <td>0</td>\n",
       "      <td>0</td>\n",
       "      <td>0</td>\n",
       "      <td>0</td>\n",
       "      <td>0</td>\n",
       "      <td>0</td>\n",
       "      <td>...</td>\n",
       "      <td>0</td>\n",
       "      <td>0</td>\n",
       "      <td>0</td>\n",
       "      <td>0</td>\n",
       "      <td>0</td>\n",
       "      <td>0</td>\n",
       "      <td>1</td>\n",
       "      <td>0</td>\n",
       "      <td>0</td>\n",
       "      <td>0</td>\n",
       "    </tr>\n",
       "    <tr>\n",
       "      <th>32644</th>\n",
       "      <td>0</td>\n",
       "      <td>0</td>\n",
       "      <td>0</td>\n",
       "      <td>0</td>\n",
       "      <td>0</td>\n",
       "      <td>0</td>\n",
       "      <td>0</td>\n",
       "      <td>0</td>\n",
       "      <td>0</td>\n",
       "      <td>0</td>\n",
       "      <td>...</td>\n",
       "      <td>0</td>\n",
       "      <td>0</td>\n",
       "      <td>1</td>\n",
       "      <td>0</td>\n",
       "      <td>0</td>\n",
       "      <td>0</td>\n",
       "      <td>1</td>\n",
       "      <td>0</td>\n",
       "      <td>0</td>\n",
       "      <td>0</td>\n",
       "    </tr>\n",
       "    <tr>\n",
       "      <th>32645</th>\n",
       "      <td>0</td>\n",
       "      <td>0</td>\n",
       "      <td>0</td>\n",
       "      <td>0</td>\n",
       "      <td>0</td>\n",
       "      <td>0</td>\n",
       "      <td>0</td>\n",
       "      <td>0</td>\n",
       "      <td>0</td>\n",
       "      <td>0</td>\n",
       "      <td>...</td>\n",
       "      <td>0</td>\n",
       "      <td>0</td>\n",
       "      <td>0</td>\n",
       "      <td>0</td>\n",
       "      <td>0</td>\n",
       "      <td>0</td>\n",
       "      <td>1</td>\n",
       "      <td>0</td>\n",
       "      <td>0</td>\n",
       "      <td>0</td>\n",
       "    </tr>\n",
       "    <tr>\n",
       "      <th>32646</th>\n",
       "      <td>0</td>\n",
       "      <td>0</td>\n",
       "      <td>0</td>\n",
       "      <td>0</td>\n",
       "      <td>0</td>\n",
       "      <td>0</td>\n",
       "      <td>0</td>\n",
       "      <td>0</td>\n",
       "      <td>0</td>\n",
       "      <td>0</td>\n",
       "      <td>...</td>\n",
       "      <td>0</td>\n",
       "      <td>0</td>\n",
       "      <td>0</td>\n",
       "      <td>0</td>\n",
       "      <td>0</td>\n",
       "      <td>0</td>\n",
       "      <td>1</td>\n",
       "      <td>0</td>\n",
       "      <td>0</td>\n",
       "      <td>0</td>\n",
       "    </tr>\n",
       "    <tr>\n",
       "      <th>32647</th>\n",
       "      <td>0</td>\n",
       "      <td>0</td>\n",
       "      <td>0</td>\n",
       "      <td>0</td>\n",
       "      <td>0</td>\n",
       "      <td>0</td>\n",
       "      <td>0</td>\n",
       "      <td>0</td>\n",
       "      <td>0</td>\n",
       "      <td>0</td>\n",
       "      <td>...</td>\n",
       "      <td>0</td>\n",
       "      <td>0</td>\n",
       "      <td>0</td>\n",
       "      <td>0</td>\n",
       "      <td>0</td>\n",
       "      <td>0</td>\n",
       "      <td>1</td>\n",
       "      <td>0</td>\n",
       "      <td>0</td>\n",
       "      <td>0</td>\n",
       "    </tr>\n",
       "  </tbody>\n",
       "</table>\n",
       "<p>32648 rows × 470 columns</p>\n",
       "</div>"
      ],
      "text/plain": [
       "       city_24 Pargana  city_Abohar  city_Adalaj  city_Adoni  city_Adyar  \\\n",
       "0                    0            0            0           0           0   \n",
       "1                    0            0            0           0           0   \n",
       "2                    0            0            0           0           0   \n",
       "3                    0            0            0           0           0   \n",
       "4                    0            0            0           0           0   \n",
       "...                ...          ...          ...         ...         ...   \n",
       "32643                0            0            0           0           0   \n",
       "32644                0            0            0           0           0   \n",
       "32645                0            0            0           0           0   \n",
       "32646                0            0            0           0           0   \n",
       "32647                0            0            0           0           0   \n",
       "\n",
       "       city_Agra  city_Ahmedabad  city_Ahmednagar  city_Ajmer  city_Akot  ...  \\\n",
       "0              0               1                0           0          0  ...   \n",
       "1              0               0                0           0          0  ...   \n",
       "2              0               0                0           0          0  ...   \n",
       "3              0               0                0           0          0  ...   \n",
       "4              0               0                0           0          0  ...   \n",
       "...          ...             ...              ...         ...        ...  ...   \n",
       "32643          0               0                0           0          0  ...   \n",
       "32644          0               0                0           0          0  ...   \n",
       "32645          0               0                0           0          0  ...   \n",
       "32646          0               0                0           0          0  ...   \n",
       "32647          0               0                0           0          0  ...   \n",
       "\n",
       "       brand_Royal Enfield  brand_Suzuki  brand_TVS  brand_Triumph  \\\n",
       "0                        0             0          1              0   \n",
       "1                        1             0          0              0   \n",
       "2                        0             0          0              1   \n",
       "3                        0             0          1              0   \n",
       "4                        0             0          0              0   \n",
       "...                    ...           ...        ...            ...   \n",
       "32643                    0             0          0              0   \n",
       "32644                    0             0          1              0   \n",
       "32645                    0             0          0              0   \n",
       "32646                    0             0          0              0   \n",
       "32647                    0             0          0              0   \n",
       "\n",
       "       brand_Yamaha  brand_Yezdi  bike_owner_no_First  bike_owner_no_Fourth  \\\n",
       "0                 0            0                    1                     0   \n",
       "1                 0            0                    1                     0   \n",
       "2                 0            0                    1                     0   \n",
       "3                 0            0                    1                     0   \n",
       "4                 1            0                    1                     0   \n",
       "...             ...          ...                  ...                   ...   \n",
       "32643             0            0                    1                     0   \n",
       "32644             0            0                    1                     0   \n",
       "32645             0            0                    1                     0   \n",
       "32646             0            0                    1                     0   \n",
       "32647             0            0                    1                     0   \n",
       "\n",
       "       bike_owner_no_Second  bike_owner_no_Third  \n",
       "0                         0                    0  \n",
       "1                         0                    0  \n",
       "2                         0                    0  \n",
       "3                         0                    0  \n",
       "4                         0                    0  \n",
       "...                     ...                  ...  \n",
       "32643                     0                    0  \n",
       "32644                     0                    0  \n",
       "32645                     0                    0  \n",
       "32646                     0                    0  \n",
       "32647                     0                    0  \n",
       "\n",
       "[32648 rows x 470 columns]"
      ]
     },
     "execution_count": 28,
     "metadata": {},
     "output_type": "execute_result"
    }
   ],
   "source": [
    "dummies=pd.get_dummies(variables)\n",
    "dummies"
   ]
  },
  {
   "cell_type": "code",
   "execution_count": 29,
   "id": "9e8d3558",
   "metadata": {
    "execution": {
     "iopub.execute_input": "2022-04-21T07:30:25.312988Z",
     "iopub.status.busy": "2022-04-21T07:30:25.311975Z",
     "iopub.status.idle": "2022-04-21T07:30:25.368816Z",
     "shell.execute_reply": "2022-04-21T07:30:25.369375Z",
     "shell.execute_reply.started": "2022-04-21T07:21:13.626604Z"
    },
    "papermill": {
     "duration": 0.135922,
     "end_time": "2022-04-21T07:30:25.369549",
     "exception": false,
     "start_time": "2022-04-21T07:30:25.233627",
     "status": "completed"
    },
    "tags": []
   },
   "outputs": [],
   "source": [
    "#creating the dummy variables\n",
    "dummies=pd.get_dummies(variables)\n",
    "used_bike=pd.concat([used_bike_price,dummies],axis=1)"
   ]
  },
  {
   "cell_type": "code",
   "execution_count": 30,
   "id": "b144db92",
   "metadata": {
    "execution": {
     "iopub.execute_input": "2022-04-21T07:30:25.523655Z",
     "iopub.status.busy": "2022-04-21T07:30:25.522523Z",
     "iopub.status.idle": "2022-04-21T07:30:25.577594Z",
     "shell.execute_reply": "2022-04-21T07:30:25.577033Z",
     "shell.execute_reply.started": "2022-04-21T07:21:13.700328Z"
    },
    "papermill": {
     "duration": 0.134537,
     "end_time": "2022-04-21T07:30:25.577755",
     "exception": false,
     "start_time": "2022-04-21T07:30:25.443218",
     "status": "completed"
    },
    "tags": []
   },
   "outputs": [],
   "source": [
    "used_bike=used_bike.drop(['city','brand','bike_owner_no'],axis=1)"
   ]
  },
  {
   "cell_type": "code",
   "execution_count": 31,
   "id": "3a116307",
   "metadata": {
    "execution": {
     "iopub.execute_input": "2022-04-21T07:30:25.733884Z",
     "iopub.status.busy": "2022-04-21T07:30:25.731546Z",
     "iopub.status.idle": "2022-04-21T07:30:25.762292Z",
     "shell.execute_reply": "2022-04-21T07:30:25.762915Z",
     "shell.execute_reply.started": "2022-04-21T07:21:13.756999Z"
    },
    "papermill": {
     "duration": 0.110083,
     "end_time": "2022-04-21T07:30:25.763096",
     "exception": false,
     "start_time": "2022-04-21T07:30:25.653013",
     "status": "completed"
    },
    "tags": []
   },
   "outputs": [
    {
     "name": "stdout",
     "output_type": "stream",
     "text": [
      "<class 'pandas.core.frame.DataFrame'>\n",
      "RangeIndex: 32648 entries, 0 to 32647\n",
      "Columns: 474 entries, price to bike_owner_no_Third\n",
      "dtypes: float64(4), uint8(470)\n",
      "memory usage: 15.6 MB\n"
     ]
    }
   ],
   "source": [
    "used_bike.info()"
   ]
  },
  {
   "cell_type": "markdown",
   "id": "2e1c2e89",
   "metadata": {
    "papermill": {
     "duration": 0.073396,
     "end_time": "2022-04-21T07:30:25.917424",
     "exception": false,
     "start_time": "2022-04-21T07:30:25.844028",
     "status": "completed"
    },
    "tags": []
   },
   "source": [
    "#     Setting X And Y"
   ]
  },
  {
   "cell_type": "code",
   "execution_count": 32,
   "id": "80a48a85",
   "metadata": {
    "execution": {
     "iopub.execute_input": "2022-04-21T07:30:26.071225Z",
     "iopub.status.busy": "2022-04-21T07:30:26.070227Z",
     "iopub.status.idle": "2022-04-21T07:30:26.110406Z",
     "shell.execute_reply": "2022-04-21T07:30:26.110941Z",
     "shell.execute_reply.started": "2022-04-21T07:21:13.792351Z"
    },
    "papermill": {
     "duration": 0.119785,
     "end_time": "2022-04-21T07:30:26.111113",
     "exception": false,
     "start_time": "2022-04-21T07:30:25.991328",
     "status": "completed"
    },
    "tags": []
   },
   "outputs": [
    {
     "data": {
      "text/html": [
       "<div>\n",
       "<style scoped>\n",
       "    .dataframe tbody tr th:only-of-type {\n",
       "        vertical-align: middle;\n",
       "    }\n",
       "\n",
       "    .dataframe tbody tr th {\n",
       "        vertical-align: top;\n",
       "    }\n",
       "\n",
       "    .dataframe thead th {\n",
       "        text-align: right;\n",
       "    }\n",
       "</style>\n",
       "<table border=\"1\" class=\"dataframe\">\n",
       "  <thead>\n",
       "    <tr style=\"text-align: right;\">\n",
       "      <th></th>\n",
       "      <th>kms_driven</th>\n",
       "      <th>age</th>\n",
       "      <th>power</th>\n",
       "      <th>city_24 Pargana</th>\n",
       "      <th>city_Abohar</th>\n",
       "      <th>city_Adalaj</th>\n",
       "      <th>city_Adoni</th>\n",
       "      <th>city_Adyar</th>\n",
       "      <th>city_Agra</th>\n",
       "      <th>city_Ahmedabad</th>\n",
       "      <th>...</th>\n",
       "      <th>brand_Royal Enfield</th>\n",
       "      <th>brand_Suzuki</th>\n",
       "      <th>brand_TVS</th>\n",
       "      <th>brand_Triumph</th>\n",
       "      <th>brand_Yamaha</th>\n",
       "      <th>brand_Yezdi</th>\n",
       "      <th>bike_owner_no_First</th>\n",
       "      <th>bike_owner_no_Fourth</th>\n",
       "      <th>bike_owner_no_Second</th>\n",
       "      <th>bike_owner_no_Third</th>\n",
       "    </tr>\n",
       "  </thead>\n",
       "  <tbody>\n",
       "    <tr>\n",
       "      <th>0</th>\n",
       "      <td>17654.0</td>\n",
       "      <td>3.0</td>\n",
       "      <td>110.0</td>\n",
       "      <td>0</td>\n",
       "      <td>0</td>\n",
       "      <td>0</td>\n",
       "      <td>0</td>\n",
       "      <td>0</td>\n",
       "      <td>0</td>\n",
       "      <td>1</td>\n",
       "      <td>...</td>\n",
       "      <td>0</td>\n",
       "      <td>0</td>\n",
       "      <td>1</td>\n",
       "      <td>0</td>\n",
       "      <td>0</td>\n",
       "      <td>0</td>\n",
       "      <td>1</td>\n",
       "      <td>0</td>\n",
       "      <td>0</td>\n",
       "      <td>0</td>\n",
       "    </tr>\n",
       "    <tr>\n",
       "      <th>1</th>\n",
       "      <td>11000.0</td>\n",
       "      <td>4.0</td>\n",
       "      <td>350.0</td>\n",
       "      <td>0</td>\n",
       "      <td>0</td>\n",
       "      <td>0</td>\n",
       "      <td>0</td>\n",
       "      <td>0</td>\n",
       "      <td>0</td>\n",
       "      <td>0</td>\n",
       "      <td>...</td>\n",
       "      <td>1</td>\n",
       "      <td>0</td>\n",
       "      <td>0</td>\n",
       "      <td>0</td>\n",
       "      <td>0</td>\n",
       "      <td>0</td>\n",
       "      <td>1</td>\n",
       "      <td>0</td>\n",
       "      <td>0</td>\n",
       "      <td>0</td>\n",
       "    </tr>\n",
       "    <tr>\n",
       "      <th>2</th>\n",
       "      <td>110.0</td>\n",
       "      <td>8.0</td>\n",
       "      <td>675.0</td>\n",
       "      <td>0</td>\n",
       "      <td>0</td>\n",
       "      <td>0</td>\n",
       "      <td>0</td>\n",
       "      <td>0</td>\n",
       "      <td>0</td>\n",
       "      <td>0</td>\n",
       "      <td>...</td>\n",
       "      <td>0</td>\n",
       "      <td>0</td>\n",
       "      <td>0</td>\n",
       "      <td>1</td>\n",
       "      <td>0</td>\n",
       "      <td>0</td>\n",
       "      <td>1</td>\n",
       "      <td>0</td>\n",
       "      <td>0</td>\n",
       "      <td>0</td>\n",
       "    </tr>\n",
       "    <tr>\n",
       "      <th>3</th>\n",
       "      <td>16329.0</td>\n",
       "      <td>4.0</td>\n",
       "      <td>180.0</td>\n",
       "      <td>0</td>\n",
       "      <td>0</td>\n",
       "      <td>0</td>\n",
       "      <td>0</td>\n",
       "      <td>0</td>\n",
       "      <td>0</td>\n",
       "      <td>0</td>\n",
       "      <td>...</td>\n",
       "      <td>0</td>\n",
       "      <td>0</td>\n",
       "      <td>1</td>\n",
       "      <td>0</td>\n",
       "      <td>0</td>\n",
       "      <td>0</td>\n",
       "      <td>1</td>\n",
       "      <td>0</td>\n",
       "      <td>0</td>\n",
       "      <td>0</td>\n",
       "    </tr>\n",
       "    <tr>\n",
       "      <th>4</th>\n",
       "      <td>10000.0</td>\n",
       "      <td>3.0</td>\n",
       "      <td>150.0</td>\n",
       "      <td>0</td>\n",
       "      <td>0</td>\n",
       "      <td>0</td>\n",
       "      <td>0</td>\n",
       "      <td>0</td>\n",
       "      <td>0</td>\n",
       "      <td>0</td>\n",
       "      <td>...</td>\n",
       "      <td>0</td>\n",
       "      <td>0</td>\n",
       "      <td>0</td>\n",
       "      <td>0</td>\n",
       "      <td>1</td>\n",
       "      <td>0</td>\n",
       "      <td>1</td>\n",
       "      <td>0</td>\n",
       "      <td>0</td>\n",
       "      <td>0</td>\n",
       "    </tr>\n",
       "    <tr>\n",
       "      <th>...</th>\n",
       "      <td>...</td>\n",
       "      <td>...</td>\n",
       "      <td>...</td>\n",
       "      <td>...</td>\n",
       "      <td>...</td>\n",
       "      <td>...</td>\n",
       "      <td>...</td>\n",
       "      <td>...</td>\n",
       "      <td>...</td>\n",
       "      <td>...</td>\n",
       "      <td>...</td>\n",
       "      <td>...</td>\n",
       "      <td>...</td>\n",
       "      <td>...</td>\n",
       "      <td>...</td>\n",
       "      <td>...</td>\n",
       "      <td>...</td>\n",
       "      <td>...</td>\n",
       "      <td>...</td>\n",
       "      <td>...</td>\n",
       "      <td>...</td>\n",
       "    </tr>\n",
       "    <tr>\n",
       "      <th>32643</th>\n",
       "      <td>22000.0</td>\n",
       "      <td>4.0</td>\n",
       "      <td>100.0</td>\n",
       "      <td>0</td>\n",
       "      <td>0</td>\n",
       "      <td>0</td>\n",
       "      <td>0</td>\n",
       "      <td>0</td>\n",
       "      <td>0</td>\n",
       "      <td>0</td>\n",
       "      <td>...</td>\n",
       "      <td>0</td>\n",
       "      <td>0</td>\n",
       "      <td>0</td>\n",
       "      <td>0</td>\n",
       "      <td>0</td>\n",
       "      <td>0</td>\n",
       "      <td>1</td>\n",
       "      <td>0</td>\n",
       "      <td>0</td>\n",
       "      <td>0</td>\n",
       "    </tr>\n",
       "    <tr>\n",
       "      <th>32644</th>\n",
       "      <td>6639.0</td>\n",
       "      <td>9.0</td>\n",
       "      <td>180.0</td>\n",
       "      <td>0</td>\n",
       "      <td>0</td>\n",
       "      <td>0</td>\n",
       "      <td>0</td>\n",
       "      <td>0</td>\n",
       "      <td>0</td>\n",
       "      <td>0</td>\n",
       "      <td>...</td>\n",
       "      <td>0</td>\n",
       "      <td>0</td>\n",
       "      <td>1</td>\n",
       "      <td>0</td>\n",
       "      <td>0</td>\n",
       "      <td>0</td>\n",
       "      <td>1</td>\n",
       "      <td>0</td>\n",
       "      <td>0</td>\n",
       "      <td>0</td>\n",
       "    </tr>\n",
       "    <tr>\n",
       "      <th>32645</th>\n",
       "      <td>20373.0</td>\n",
       "      <td>6.0</td>\n",
       "      <td>220.0</td>\n",
       "      <td>0</td>\n",
       "      <td>0</td>\n",
       "      <td>0</td>\n",
       "      <td>0</td>\n",
       "      <td>0</td>\n",
       "      <td>0</td>\n",
       "      <td>0</td>\n",
       "      <td>...</td>\n",
       "      <td>0</td>\n",
       "      <td>0</td>\n",
       "      <td>0</td>\n",
       "      <td>0</td>\n",
       "      <td>0</td>\n",
       "      <td>0</td>\n",
       "      <td>1</td>\n",
       "      <td>0</td>\n",
       "      <td>0</td>\n",
       "      <td>0</td>\n",
       "    </tr>\n",
       "    <tr>\n",
       "      <th>32646</th>\n",
       "      <td>84186.0</td>\n",
       "      <td>16.0</td>\n",
       "      <td>125.0</td>\n",
       "      <td>0</td>\n",
       "      <td>0</td>\n",
       "      <td>0</td>\n",
       "      <td>0</td>\n",
       "      <td>0</td>\n",
       "      <td>0</td>\n",
       "      <td>0</td>\n",
       "      <td>...</td>\n",
       "      <td>0</td>\n",
       "      <td>0</td>\n",
       "      <td>0</td>\n",
       "      <td>0</td>\n",
       "      <td>0</td>\n",
       "      <td>0</td>\n",
       "      <td>1</td>\n",
       "      <td>0</td>\n",
       "      <td>0</td>\n",
       "      <td>0</td>\n",
       "    </tr>\n",
       "    <tr>\n",
       "      <th>32647</th>\n",
       "      <td>60857.0</td>\n",
       "      <td>13.0</td>\n",
       "      <td>150.0</td>\n",
       "      <td>0</td>\n",
       "      <td>0</td>\n",
       "      <td>0</td>\n",
       "      <td>0</td>\n",
       "      <td>0</td>\n",
       "      <td>0</td>\n",
       "      <td>0</td>\n",
       "      <td>...</td>\n",
       "      <td>0</td>\n",
       "      <td>0</td>\n",
       "      <td>0</td>\n",
       "      <td>0</td>\n",
       "      <td>0</td>\n",
       "      <td>0</td>\n",
       "      <td>1</td>\n",
       "      <td>0</td>\n",
       "      <td>0</td>\n",
       "      <td>0</td>\n",
       "    </tr>\n",
       "  </tbody>\n",
       "</table>\n",
       "<p>32648 rows × 473 columns</p>\n",
       "</div>"
      ],
      "text/plain": [
       "       kms_driven   age  power  city_24 Pargana  city_Abohar  city_Adalaj  \\\n",
       "0         17654.0   3.0  110.0                0            0            0   \n",
       "1         11000.0   4.0  350.0                0            0            0   \n",
       "2           110.0   8.0  675.0                0            0            0   \n",
       "3         16329.0   4.0  180.0                0            0            0   \n",
       "4         10000.0   3.0  150.0                0            0            0   \n",
       "...           ...   ...    ...              ...          ...          ...   \n",
       "32643     22000.0   4.0  100.0                0            0            0   \n",
       "32644      6639.0   9.0  180.0                0            0            0   \n",
       "32645     20373.0   6.0  220.0                0            0            0   \n",
       "32646     84186.0  16.0  125.0                0            0            0   \n",
       "32647     60857.0  13.0  150.0                0            0            0   \n",
       "\n",
       "       city_Adoni  city_Adyar  city_Agra  city_Ahmedabad  ...  \\\n",
       "0               0           0          0               1  ...   \n",
       "1               0           0          0               0  ...   \n",
       "2               0           0          0               0  ...   \n",
       "3               0           0          0               0  ...   \n",
       "4               0           0          0               0  ...   \n",
       "...           ...         ...        ...             ...  ...   \n",
       "32643           0           0          0               0  ...   \n",
       "32644           0           0          0               0  ...   \n",
       "32645           0           0          0               0  ...   \n",
       "32646           0           0          0               0  ...   \n",
       "32647           0           0          0               0  ...   \n",
       "\n",
       "       brand_Royal Enfield  brand_Suzuki  brand_TVS  brand_Triumph  \\\n",
       "0                        0             0          1              0   \n",
       "1                        1             0          0              0   \n",
       "2                        0             0          0              1   \n",
       "3                        0             0          1              0   \n",
       "4                        0             0          0              0   \n",
       "...                    ...           ...        ...            ...   \n",
       "32643                    0             0          0              0   \n",
       "32644                    0             0          1              0   \n",
       "32645                    0             0          0              0   \n",
       "32646                    0             0          0              0   \n",
       "32647                    0             0          0              0   \n",
       "\n",
       "       brand_Yamaha  brand_Yezdi  bike_owner_no_First  bike_owner_no_Fourth  \\\n",
       "0                 0            0                    1                     0   \n",
       "1                 0            0                    1                     0   \n",
       "2                 0            0                    1                     0   \n",
       "3                 0            0                    1                     0   \n",
       "4                 1            0                    1                     0   \n",
       "...             ...          ...                  ...                   ...   \n",
       "32643             0            0                    1                     0   \n",
       "32644             0            0                    1                     0   \n",
       "32645             0            0                    1                     0   \n",
       "32646             0            0                    1                     0   \n",
       "32647             0            0                    1                     0   \n",
       "\n",
       "       bike_owner_no_Second  bike_owner_no_Third  \n",
       "0                         0                    0  \n",
       "1                         0                    0  \n",
       "2                         0                    0  \n",
       "3                         0                    0  \n",
       "4                         0                    0  \n",
       "...                     ...                  ...  \n",
       "32643                     0                    0  \n",
       "32644                     0                    0  \n",
       "32645                     0                    0  \n",
       "32646                     0                    0  \n",
       "32647                     0                    0  \n",
       "\n",
       "[32648 rows x 473 columns]"
      ]
     },
     "execution_count": 32,
     "metadata": {},
     "output_type": "execute_result"
    }
   ],
   "source": [
    "X=used_bike.drop(['price'],axis=1)\n",
    "X"
   ]
  },
  {
   "cell_type": "code",
   "execution_count": 33,
   "id": "f696b35f",
   "metadata": {
    "execution": {
     "iopub.execute_input": "2022-04-21T07:30:26.264654Z",
     "iopub.status.busy": "2022-04-21T07:30:26.263611Z",
     "iopub.status.idle": "2022-04-21T07:30:26.270939Z",
     "shell.execute_reply": "2022-04-21T07:30:26.271390Z",
     "shell.execute_reply.started": "2022-04-21T07:21:13.835255Z"
    },
    "papermill": {
     "duration": 0.085738,
     "end_time": "2022-04-21T07:30:26.271557",
     "exception": false,
     "start_time": "2022-04-21T07:30:26.185819",
     "status": "completed"
    },
    "tags": []
   },
   "outputs": [
    {
     "data": {
      "text/plain": [
       "0         35000.0\n",
       "1        119900.0\n",
       "2        600000.0\n",
       "3         65000.0\n",
       "4         80000.0\n",
       "           ...   \n",
       "32643     39000.0\n",
       "32644     30000.0\n",
       "32645     60000.0\n",
       "32646     15600.0\n",
       "32647     22000.0\n",
       "Name: price, Length: 32648, dtype: float64"
      ]
     },
     "execution_count": 33,
     "metadata": {},
     "output_type": "execute_result"
    }
   ],
   "source": [
    "y=used_bike['price']\n",
    "y"
   ]
  },
  {
   "cell_type": "markdown",
   "id": "94306134",
   "metadata": {
    "papermill": {
     "duration": 0.075023,
     "end_time": "2022-04-21T07:30:26.421518",
     "exception": false,
     "start_time": "2022-04-21T07:30:26.346495",
     "status": "completed"
    },
    "tags": []
   },
   "source": [
    "# Splitting The Data Into The Train And The Test Sets"
   ]
  },
  {
   "cell_type": "code",
   "execution_count": 34,
   "id": "2173bf28",
   "metadata": {
    "execution": {
     "iopub.execute_input": "2022-04-21T07:30:26.578931Z",
     "iopub.status.busy": "2022-04-21T07:30:26.577904Z",
     "iopub.status.idle": "2022-04-21T07:30:26.614692Z",
     "shell.execute_reply": "2022-04-21T07:30:26.614074Z",
     "shell.execute_reply.started": "2022-04-21T07:21:13.846742Z"
    },
    "papermill": {
     "duration": 0.117932,
     "end_time": "2022-04-21T07:30:26.614833",
     "exception": false,
     "start_time": "2022-04-21T07:30:26.496901",
     "status": "completed"
    },
    "tags": []
   },
   "outputs": [],
   "source": [
    "X_train,X_test,y_train,y_test=train_test_split(X,y,test_size=0.2)\n"
   ]
  },
  {
   "cell_type": "code",
   "execution_count": 35,
   "id": "ec6ce0b5",
   "metadata": {
    "execution": {
     "iopub.execute_input": "2022-04-21T07:30:26.774821Z",
     "iopub.status.busy": "2022-04-21T07:30:26.774148Z",
     "iopub.status.idle": "2022-04-21T07:30:26.799283Z",
     "shell.execute_reply": "2022-04-21T07:30:26.798719Z",
     "shell.execute_reply.started": "2022-04-21T07:21:13.894703Z"
    },
    "papermill": {
     "duration": 0.106933,
     "end_time": "2022-04-21T07:30:26.799423",
     "exception": false,
     "start_time": "2022-04-21T07:30:26.692490",
     "status": "completed"
    },
    "tags": []
   },
   "outputs": [
    {
     "data": {
      "text/html": [
       "<div>\n",
       "<style scoped>\n",
       "    .dataframe tbody tr th:only-of-type {\n",
       "        vertical-align: middle;\n",
       "    }\n",
       "\n",
       "    .dataframe tbody tr th {\n",
       "        vertical-align: top;\n",
       "    }\n",
       "\n",
       "    .dataframe thead th {\n",
       "        text-align: right;\n",
       "    }\n",
       "</style>\n",
       "<table border=\"1\" class=\"dataframe\">\n",
       "  <thead>\n",
       "    <tr style=\"text-align: right;\">\n",
       "      <th></th>\n",
       "      <th>kms_driven</th>\n",
       "      <th>age</th>\n",
       "      <th>power</th>\n",
       "      <th>city_24 Pargana</th>\n",
       "      <th>city_Abohar</th>\n",
       "      <th>city_Adalaj</th>\n",
       "      <th>city_Adoni</th>\n",
       "      <th>city_Adyar</th>\n",
       "      <th>city_Agra</th>\n",
       "      <th>city_Ahmedabad</th>\n",
       "      <th>...</th>\n",
       "      <th>brand_Royal Enfield</th>\n",
       "      <th>brand_Suzuki</th>\n",
       "      <th>brand_TVS</th>\n",
       "      <th>brand_Triumph</th>\n",
       "      <th>brand_Yamaha</th>\n",
       "      <th>brand_Yezdi</th>\n",
       "      <th>bike_owner_no_First</th>\n",
       "      <th>bike_owner_no_Fourth</th>\n",
       "      <th>bike_owner_no_Second</th>\n",
       "      <th>bike_owner_no_Third</th>\n",
       "    </tr>\n",
       "  </thead>\n",
       "  <tbody>\n",
       "    <tr>\n",
       "      <th>15685</th>\n",
       "      <td>16336.0</td>\n",
       "      <td>7.0</td>\n",
       "      <td>350.0</td>\n",
       "      <td>0</td>\n",
       "      <td>0</td>\n",
       "      <td>0</td>\n",
       "      <td>0</td>\n",
       "      <td>0</td>\n",
       "      <td>0</td>\n",
       "      <td>0</td>\n",
       "      <td>...</td>\n",
       "      <td>1</td>\n",
       "      <td>0</td>\n",
       "      <td>0</td>\n",
       "      <td>0</td>\n",
       "      <td>0</td>\n",
       "      <td>0</td>\n",
       "      <td>1</td>\n",
       "      <td>0</td>\n",
       "      <td>0</td>\n",
       "      <td>0</td>\n",
       "    </tr>\n",
       "    <tr>\n",
       "      <th>17528</th>\n",
       "      <td>20000.0</td>\n",
       "      <td>4.0</td>\n",
       "      <td>350.0</td>\n",
       "      <td>0</td>\n",
       "      <td>0</td>\n",
       "      <td>0</td>\n",
       "      <td>0</td>\n",
       "      <td>0</td>\n",
       "      <td>0</td>\n",
       "      <td>0</td>\n",
       "      <td>...</td>\n",
       "      <td>1</td>\n",
       "      <td>0</td>\n",
       "      <td>0</td>\n",
       "      <td>0</td>\n",
       "      <td>0</td>\n",
       "      <td>0</td>\n",
       "      <td>1</td>\n",
       "      <td>0</td>\n",
       "      <td>0</td>\n",
       "      <td>0</td>\n",
       "    </tr>\n",
       "    <tr>\n",
       "      <th>6224</th>\n",
       "      <td>16587.0</td>\n",
       "      <td>6.0</td>\n",
       "      <td>100.0</td>\n",
       "      <td>0</td>\n",
       "      <td>0</td>\n",
       "      <td>0</td>\n",
       "      <td>0</td>\n",
       "      <td>0</td>\n",
       "      <td>0</td>\n",
       "      <td>0</td>\n",
       "      <td>...</td>\n",
       "      <td>0</td>\n",
       "      <td>0</td>\n",
       "      <td>0</td>\n",
       "      <td>0</td>\n",
       "      <td>0</td>\n",
       "      <td>0</td>\n",
       "      <td>1</td>\n",
       "      <td>0</td>\n",
       "      <td>0</td>\n",
       "      <td>0</td>\n",
       "    </tr>\n",
       "    <tr>\n",
       "      <th>23087</th>\n",
       "      <td>60000.0</td>\n",
       "      <td>9.0</td>\n",
       "      <td>220.0</td>\n",
       "      <td>0</td>\n",
       "      <td>0</td>\n",
       "      <td>0</td>\n",
       "      <td>0</td>\n",
       "      <td>0</td>\n",
       "      <td>0</td>\n",
       "      <td>0</td>\n",
       "      <td>...</td>\n",
       "      <td>0</td>\n",
       "      <td>0</td>\n",
       "      <td>0</td>\n",
       "      <td>0</td>\n",
       "      <td>0</td>\n",
       "      <td>0</td>\n",
       "      <td>1</td>\n",
       "      <td>0</td>\n",
       "      <td>0</td>\n",
       "      <td>0</td>\n",
       "    </tr>\n",
       "    <tr>\n",
       "      <th>14553</th>\n",
       "      <td>20245.0</td>\n",
       "      <td>11.0</td>\n",
       "      <td>220.0</td>\n",
       "      <td>0</td>\n",
       "      <td>0</td>\n",
       "      <td>0</td>\n",
       "      <td>0</td>\n",
       "      <td>0</td>\n",
       "      <td>0</td>\n",
       "      <td>0</td>\n",
       "      <td>...</td>\n",
       "      <td>0</td>\n",
       "      <td>0</td>\n",
       "      <td>0</td>\n",
       "      <td>0</td>\n",
       "      <td>0</td>\n",
       "      <td>0</td>\n",
       "      <td>0</td>\n",
       "      <td>0</td>\n",
       "      <td>1</td>\n",
       "      <td>0</td>\n",
       "    </tr>\n",
       "    <tr>\n",
       "      <th>...</th>\n",
       "      <td>...</td>\n",
       "      <td>...</td>\n",
       "      <td>...</td>\n",
       "      <td>...</td>\n",
       "      <td>...</td>\n",
       "      <td>...</td>\n",
       "      <td>...</td>\n",
       "      <td>...</td>\n",
       "      <td>...</td>\n",
       "      <td>...</td>\n",
       "      <td>...</td>\n",
       "      <td>...</td>\n",
       "      <td>...</td>\n",
       "      <td>...</td>\n",
       "      <td>...</td>\n",
       "      <td>...</td>\n",
       "      <td>...</td>\n",
       "      <td>...</td>\n",
       "      <td>...</td>\n",
       "      <td>...</td>\n",
       "      <td>...</td>\n",
       "    </tr>\n",
       "    <tr>\n",
       "      <th>31590</th>\n",
       "      <td>41939.0</td>\n",
       "      <td>8.0</td>\n",
       "      <td>200.0</td>\n",
       "      <td>0</td>\n",
       "      <td>0</td>\n",
       "      <td>0</td>\n",
       "      <td>0</td>\n",
       "      <td>0</td>\n",
       "      <td>0</td>\n",
       "      <td>0</td>\n",
       "      <td>...</td>\n",
       "      <td>0</td>\n",
       "      <td>0</td>\n",
       "      <td>0</td>\n",
       "      <td>0</td>\n",
       "      <td>0</td>\n",
       "      <td>0</td>\n",
       "      <td>1</td>\n",
       "      <td>0</td>\n",
       "      <td>0</td>\n",
       "      <td>0</td>\n",
       "    </tr>\n",
       "    <tr>\n",
       "      <th>1383</th>\n",
       "      <td>21820.0</td>\n",
       "      <td>6.0</td>\n",
       "      <td>350.0</td>\n",
       "      <td>0</td>\n",
       "      <td>0</td>\n",
       "      <td>0</td>\n",
       "      <td>0</td>\n",
       "      <td>0</td>\n",
       "      <td>0</td>\n",
       "      <td>0</td>\n",
       "      <td>...</td>\n",
       "      <td>1</td>\n",
       "      <td>0</td>\n",
       "      <td>0</td>\n",
       "      <td>0</td>\n",
       "      <td>0</td>\n",
       "      <td>0</td>\n",
       "      <td>1</td>\n",
       "      <td>0</td>\n",
       "      <td>0</td>\n",
       "      <td>0</td>\n",
       "    </tr>\n",
       "    <tr>\n",
       "      <th>26880</th>\n",
       "      <td>32588.0</td>\n",
       "      <td>9.0</td>\n",
       "      <td>150.0</td>\n",
       "      <td>0</td>\n",
       "      <td>0</td>\n",
       "      <td>0</td>\n",
       "      <td>0</td>\n",
       "      <td>0</td>\n",
       "      <td>0</td>\n",
       "      <td>0</td>\n",
       "      <td>...</td>\n",
       "      <td>0</td>\n",
       "      <td>0</td>\n",
       "      <td>0</td>\n",
       "      <td>0</td>\n",
       "      <td>0</td>\n",
       "      <td>0</td>\n",
       "      <td>1</td>\n",
       "      <td>0</td>\n",
       "      <td>0</td>\n",
       "      <td>0</td>\n",
       "    </tr>\n",
       "    <tr>\n",
       "      <th>18024</th>\n",
       "      <td>11885.0</td>\n",
       "      <td>12.0</td>\n",
       "      <td>125.0</td>\n",
       "      <td>0</td>\n",
       "      <td>0</td>\n",
       "      <td>0</td>\n",
       "      <td>0</td>\n",
       "      <td>0</td>\n",
       "      <td>0</td>\n",
       "      <td>1</td>\n",
       "      <td>...</td>\n",
       "      <td>0</td>\n",
       "      <td>1</td>\n",
       "      <td>0</td>\n",
       "      <td>0</td>\n",
       "      <td>0</td>\n",
       "      <td>0</td>\n",
       "      <td>1</td>\n",
       "      <td>0</td>\n",
       "      <td>0</td>\n",
       "      <td>0</td>\n",
       "    </tr>\n",
       "    <tr>\n",
       "      <th>26424</th>\n",
       "      <td>48587.0</td>\n",
       "      <td>8.0</td>\n",
       "      <td>150.0</td>\n",
       "      <td>0</td>\n",
       "      <td>0</td>\n",
       "      <td>0</td>\n",
       "      <td>0</td>\n",
       "      <td>0</td>\n",
       "      <td>0</td>\n",
       "      <td>0</td>\n",
       "      <td>...</td>\n",
       "      <td>0</td>\n",
       "      <td>0</td>\n",
       "      <td>0</td>\n",
       "      <td>0</td>\n",
       "      <td>0</td>\n",
       "      <td>0</td>\n",
       "      <td>1</td>\n",
       "      <td>0</td>\n",
       "      <td>0</td>\n",
       "      <td>0</td>\n",
       "    </tr>\n",
       "  </tbody>\n",
       "</table>\n",
       "<p>26118 rows × 473 columns</p>\n",
       "</div>"
      ],
      "text/plain": [
       "       kms_driven   age  power  city_24 Pargana  city_Abohar  city_Adalaj  \\\n",
       "15685     16336.0   7.0  350.0                0            0            0   \n",
       "17528     20000.0   4.0  350.0                0            0            0   \n",
       "6224      16587.0   6.0  100.0                0            0            0   \n",
       "23087     60000.0   9.0  220.0                0            0            0   \n",
       "14553     20245.0  11.0  220.0                0            0            0   \n",
       "...           ...   ...    ...              ...          ...          ...   \n",
       "31590     41939.0   8.0  200.0                0            0            0   \n",
       "1383      21820.0   6.0  350.0                0            0            0   \n",
       "26880     32588.0   9.0  150.0                0            0            0   \n",
       "18024     11885.0  12.0  125.0                0            0            0   \n",
       "26424     48587.0   8.0  150.0                0            0            0   \n",
       "\n",
       "       city_Adoni  city_Adyar  city_Agra  city_Ahmedabad  ...  \\\n",
       "15685           0           0          0               0  ...   \n",
       "17528           0           0          0               0  ...   \n",
       "6224            0           0          0               0  ...   \n",
       "23087           0           0          0               0  ...   \n",
       "14553           0           0          0               0  ...   \n",
       "...           ...         ...        ...             ...  ...   \n",
       "31590           0           0          0               0  ...   \n",
       "1383            0           0          0               0  ...   \n",
       "26880           0           0          0               0  ...   \n",
       "18024           0           0          0               1  ...   \n",
       "26424           0           0          0               0  ...   \n",
       "\n",
       "       brand_Royal Enfield  brand_Suzuki  brand_TVS  brand_Triumph  \\\n",
       "15685                    1             0          0              0   \n",
       "17528                    1             0          0              0   \n",
       "6224                     0             0          0              0   \n",
       "23087                    0             0          0              0   \n",
       "14553                    0             0          0              0   \n",
       "...                    ...           ...        ...            ...   \n",
       "31590                    0             0          0              0   \n",
       "1383                     1             0          0              0   \n",
       "26880                    0             0          0              0   \n",
       "18024                    0             1          0              0   \n",
       "26424                    0             0          0              0   \n",
       "\n",
       "       brand_Yamaha  brand_Yezdi  bike_owner_no_First  bike_owner_no_Fourth  \\\n",
       "15685             0            0                    1                     0   \n",
       "17528             0            0                    1                     0   \n",
       "6224              0            0                    1                     0   \n",
       "23087             0            0                    1                     0   \n",
       "14553             0            0                    0                     0   \n",
       "...             ...          ...                  ...                   ...   \n",
       "31590             0            0                    1                     0   \n",
       "1383              0            0                    1                     0   \n",
       "26880             0            0                    1                     0   \n",
       "18024             0            0                    1                     0   \n",
       "26424             0            0                    1                     0   \n",
       "\n",
       "       bike_owner_no_Second  bike_owner_no_Third  \n",
       "15685                     0                    0  \n",
       "17528                     0                    0  \n",
       "6224                      0                    0  \n",
       "23087                     0                    0  \n",
       "14553                     1                    0  \n",
       "...                     ...                  ...  \n",
       "31590                     0                    0  \n",
       "1383                      0                    0  \n",
       "26880                     0                    0  \n",
       "18024                     0                    0  \n",
       "26424                     0                    0  \n",
       "\n",
       "[26118 rows x 473 columns]"
      ]
     },
     "execution_count": 35,
     "metadata": {},
     "output_type": "execute_result"
    }
   ],
   "source": [
    "X_train"
   ]
  },
  {
   "cell_type": "code",
   "execution_count": 36,
   "id": "65bfd666",
   "metadata": {
    "execution": {
     "iopub.execute_input": "2022-04-21T07:30:26.961615Z",
     "iopub.status.busy": "2022-04-21T07:30:26.956903Z",
     "iopub.status.idle": "2022-04-21T07:30:26.964649Z",
     "shell.execute_reply": "2022-04-21T07:30:26.965171Z",
     "shell.execute_reply.started": "2022-04-21T07:21:13.926317Z"
    },
    "papermill": {
     "duration": 0.088809,
     "end_time": "2022-04-21T07:30:26.965343",
     "exception": false,
     "start_time": "2022-04-21T07:30:26.876534",
     "status": "completed"
    },
    "tags": []
   },
   "outputs": [
    {
     "data": {
      "text/plain": [
       "15685     87000.0\n",
       "17528    105000.0\n",
       "6224      33000.0\n",
       "23087     35000.0\n",
       "14553     41000.0\n",
       "           ...   \n",
       "31590     48000.0\n",
       "1383      85000.0\n",
       "26880     25000.0\n",
       "18024     35000.0\n",
       "26424     25000.0\n",
       "Name: price, Length: 26118, dtype: float64"
      ]
     },
     "execution_count": 36,
     "metadata": {},
     "output_type": "execute_result"
    }
   ],
   "source": [
    "y_train"
   ]
  },
  {
   "cell_type": "code",
   "execution_count": 37,
   "id": "42727a25",
   "metadata": {
    "execution": {
     "iopub.execute_input": "2022-04-21T07:30:27.127000Z",
     "iopub.status.busy": "2022-04-21T07:30:27.125726Z",
     "iopub.status.idle": "2022-04-21T07:30:27.149815Z",
     "shell.execute_reply": "2022-04-21T07:30:27.149173Z",
     "shell.execute_reply.started": "2022-04-21T07:21:13.935801Z"
    },
    "papermill": {
     "duration": 0.107471,
     "end_time": "2022-04-21T07:30:27.149954",
     "exception": false,
     "start_time": "2022-04-21T07:30:27.042483",
     "status": "completed"
    },
    "tags": []
   },
   "outputs": [
    {
     "data": {
      "text/html": [
       "<div>\n",
       "<style scoped>\n",
       "    .dataframe tbody tr th:only-of-type {\n",
       "        vertical-align: middle;\n",
       "    }\n",
       "\n",
       "    .dataframe tbody tr th {\n",
       "        vertical-align: top;\n",
       "    }\n",
       "\n",
       "    .dataframe thead th {\n",
       "        text-align: right;\n",
       "    }\n",
       "</style>\n",
       "<table border=\"1\" class=\"dataframe\">\n",
       "  <thead>\n",
       "    <tr style=\"text-align: right;\">\n",
       "      <th></th>\n",
       "      <th>kms_driven</th>\n",
       "      <th>age</th>\n",
       "      <th>power</th>\n",
       "      <th>city_24 Pargana</th>\n",
       "      <th>city_Abohar</th>\n",
       "      <th>city_Adalaj</th>\n",
       "      <th>city_Adoni</th>\n",
       "      <th>city_Adyar</th>\n",
       "      <th>city_Agra</th>\n",
       "      <th>city_Ahmedabad</th>\n",
       "      <th>...</th>\n",
       "      <th>brand_Royal Enfield</th>\n",
       "      <th>brand_Suzuki</th>\n",
       "      <th>brand_TVS</th>\n",
       "      <th>brand_Triumph</th>\n",
       "      <th>brand_Yamaha</th>\n",
       "      <th>brand_Yezdi</th>\n",
       "      <th>bike_owner_no_First</th>\n",
       "      <th>bike_owner_no_Fourth</th>\n",
       "      <th>bike_owner_no_Second</th>\n",
       "      <th>bike_owner_no_Third</th>\n",
       "    </tr>\n",
       "  </thead>\n",
       "  <tbody>\n",
       "    <tr>\n",
       "      <th>32189</th>\n",
       "      <td>3430.0</td>\n",
       "      <td>4.0</td>\n",
       "      <td>750.0</td>\n",
       "      <td>0</td>\n",
       "      <td>0</td>\n",
       "      <td>0</td>\n",
       "      <td>0</td>\n",
       "      <td>0</td>\n",
       "      <td>0</td>\n",
       "      <td>0</td>\n",
       "      <td>...</td>\n",
       "      <td>0</td>\n",
       "      <td>0</td>\n",
       "      <td>0</td>\n",
       "      <td>0</td>\n",
       "      <td>0</td>\n",
       "      <td>0</td>\n",
       "      <td>1</td>\n",
       "      <td>0</td>\n",
       "      <td>0</td>\n",
       "      <td>0</td>\n",
       "    </tr>\n",
       "    <tr>\n",
       "      <th>3509</th>\n",
       "      <td>4000.0</td>\n",
       "      <td>4.0</td>\n",
       "      <td>200.0</td>\n",
       "      <td>0</td>\n",
       "      <td>0</td>\n",
       "      <td>0</td>\n",
       "      <td>0</td>\n",
       "      <td>0</td>\n",
       "      <td>0</td>\n",
       "      <td>0</td>\n",
       "      <td>...</td>\n",
       "      <td>0</td>\n",
       "      <td>0</td>\n",
       "      <td>1</td>\n",
       "      <td>0</td>\n",
       "      <td>0</td>\n",
       "      <td>0</td>\n",
       "      <td>1</td>\n",
       "      <td>0</td>\n",
       "      <td>0</td>\n",
       "      <td>0</td>\n",
       "    </tr>\n",
       "    <tr>\n",
       "      <th>22965</th>\n",
       "      <td>29134.0</td>\n",
       "      <td>7.0</td>\n",
       "      <td>220.0</td>\n",
       "      <td>0</td>\n",
       "      <td>0</td>\n",
       "      <td>0</td>\n",
       "      <td>0</td>\n",
       "      <td>0</td>\n",
       "      <td>0</td>\n",
       "      <td>0</td>\n",
       "      <td>...</td>\n",
       "      <td>0</td>\n",
       "      <td>0</td>\n",
       "      <td>0</td>\n",
       "      <td>0</td>\n",
       "      <td>0</td>\n",
       "      <td>0</td>\n",
       "      <td>1</td>\n",
       "      <td>0</td>\n",
       "      <td>0</td>\n",
       "      <td>0</td>\n",
       "    </tr>\n",
       "    <tr>\n",
       "      <th>18456</th>\n",
       "      <td>42837.0</td>\n",
       "      <td>8.0</td>\n",
       "      <td>150.0</td>\n",
       "      <td>0</td>\n",
       "      <td>0</td>\n",
       "      <td>0</td>\n",
       "      <td>0</td>\n",
       "      <td>0</td>\n",
       "      <td>0</td>\n",
       "      <td>0</td>\n",
       "      <td>...</td>\n",
       "      <td>0</td>\n",
       "      <td>0</td>\n",
       "      <td>0</td>\n",
       "      <td>0</td>\n",
       "      <td>0</td>\n",
       "      <td>0</td>\n",
       "      <td>1</td>\n",
       "      <td>0</td>\n",
       "      <td>0</td>\n",
       "      <td>0</td>\n",
       "    </tr>\n",
       "    <tr>\n",
       "      <th>4008</th>\n",
       "      <td>20385.0</td>\n",
       "      <td>10.0</td>\n",
       "      <td>100.0</td>\n",
       "      <td>0</td>\n",
       "      <td>0</td>\n",
       "      <td>0</td>\n",
       "      <td>0</td>\n",
       "      <td>0</td>\n",
       "      <td>0</td>\n",
       "      <td>0</td>\n",
       "      <td>...</td>\n",
       "      <td>0</td>\n",
       "      <td>0</td>\n",
       "      <td>0</td>\n",
       "      <td>0</td>\n",
       "      <td>0</td>\n",
       "      <td>0</td>\n",
       "      <td>1</td>\n",
       "      <td>0</td>\n",
       "      <td>0</td>\n",
       "      <td>0</td>\n",
       "    </tr>\n",
       "    <tr>\n",
       "      <th>...</th>\n",
       "      <td>...</td>\n",
       "      <td>...</td>\n",
       "      <td>...</td>\n",
       "      <td>...</td>\n",
       "      <td>...</td>\n",
       "      <td>...</td>\n",
       "      <td>...</td>\n",
       "      <td>...</td>\n",
       "      <td>...</td>\n",
       "      <td>...</td>\n",
       "      <td>...</td>\n",
       "      <td>...</td>\n",
       "      <td>...</td>\n",
       "      <td>...</td>\n",
       "      <td>...</td>\n",
       "      <td>...</td>\n",
       "      <td>...</td>\n",
       "      <td>...</td>\n",
       "      <td>...</td>\n",
       "      <td>...</td>\n",
       "      <td>...</td>\n",
       "    </tr>\n",
       "    <tr>\n",
       "      <th>30774</th>\n",
       "      <td>13216.0</td>\n",
       "      <td>4.0</td>\n",
       "      <td>390.0</td>\n",
       "      <td>0</td>\n",
       "      <td>0</td>\n",
       "      <td>0</td>\n",
       "      <td>0</td>\n",
       "      <td>0</td>\n",
       "      <td>0</td>\n",
       "      <td>0</td>\n",
       "      <td>...</td>\n",
       "      <td>0</td>\n",
       "      <td>0</td>\n",
       "      <td>0</td>\n",
       "      <td>0</td>\n",
       "      <td>0</td>\n",
       "      <td>0</td>\n",
       "      <td>1</td>\n",
       "      <td>0</td>\n",
       "      <td>0</td>\n",
       "      <td>0</td>\n",
       "    </tr>\n",
       "    <tr>\n",
       "      <th>28992</th>\n",
       "      <td>64955.0</td>\n",
       "      <td>15.0</td>\n",
       "      <td>150.0</td>\n",
       "      <td>0</td>\n",
       "      <td>0</td>\n",
       "      <td>0</td>\n",
       "      <td>0</td>\n",
       "      <td>0</td>\n",
       "      <td>0</td>\n",
       "      <td>0</td>\n",
       "      <td>...</td>\n",
       "      <td>0</td>\n",
       "      <td>0</td>\n",
       "      <td>0</td>\n",
       "      <td>0</td>\n",
       "      <td>0</td>\n",
       "      <td>0</td>\n",
       "      <td>1</td>\n",
       "      <td>0</td>\n",
       "      <td>0</td>\n",
       "      <td>0</td>\n",
       "    </tr>\n",
       "    <tr>\n",
       "      <th>22523</th>\n",
       "      <td>27000.0</td>\n",
       "      <td>9.0</td>\n",
       "      <td>150.0</td>\n",
       "      <td>0</td>\n",
       "      <td>0</td>\n",
       "      <td>0</td>\n",
       "      <td>0</td>\n",
       "      <td>0</td>\n",
       "      <td>0</td>\n",
       "      <td>0</td>\n",
       "      <td>...</td>\n",
       "      <td>0</td>\n",
       "      <td>0</td>\n",
       "      <td>0</td>\n",
       "      <td>0</td>\n",
       "      <td>1</td>\n",
       "      <td>0</td>\n",
       "      <td>1</td>\n",
       "      <td>0</td>\n",
       "      <td>0</td>\n",
       "      <td>0</td>\n",
       "    </tr>\n",
       "    <tr>\n",
       "      <th>15341</th>\n",
       "      <td>52000.0</td>\n",
       "      <td>10.0</td>\n",
       "      <td>150.0</td>\n",
       "      <td>0</td>\n",
       "      <td>0</td>\n",
       "      <td>0</td>\n",
       "      <td>0</td>\n",
       "      <td>0</td>\n",
       "      <td>0</td>\n",
       "      <td>0</td>\n",
       "      <td>...</td>\n",
       "      <td>0</td>\n",
       "      <td>0</td>\n",
       "      <td>0</td>\n",
       "      <td>0</td>\n",
       "      <td>1</td>\n",
       "      <td>0</td>\n",
       "      <td>1</td>\n",
       "      <td>0</td>\n",
       "      <td>0</td>\n",
       "      <td>0</td>\n",
       "    </tr>\n",
       "    <tr>\n",
       "      <th>14319</th>\n",
       "      <td>41939.0</td>\n",
       "      <td>8.0</td>\n",
       "      <td>200.0</td>\n",
       "      <td>0</td>\n",
       "      <td>0</td>\n",
       "      <td>0</td>\n",
       "      <td>0</td>\n",
       "      <td>0</td>\n",
       "      <td>0</td>\n",
       "      <td>0</td>\n",
       "      <td>...</td>\n",
       "      <td>0</td>\n",
       "      <td>0</td>\n",
       "      <td>0</td>\n",
       "      <td>0</td>\n",
       "      <td>0</td>\n",
       "      <td>0</td>\n",
       "      <td>1</td>\n",
       "      <td>0</td>\n",
       "      <td>0</td>\n",
       "      <td>0</td>\n",
       "    </tr>\n",
       "  </tbody>\n",
       "</table>\n",
       "<p>6530 rows × 473 columns</p>\n",
       "</div>"
      ],
      "text/plain": [
       "       kms_driven   age  power  city_24 Pargana  city_Abohar  city_Adalaj  \\\n",
       "32189      3430.0   4.0  750.0                0            0            0   \n",
       "3509       4000.0   4.0  200.0                0            0            0   \n",
       "22965     29134.0   7.0  220.0                0            0            0   \n",
       "18456     42837.0   8.0  150.0                0            0            0   \n",
       "4008      20385.0  10.0  100.0                0            0            0   \n",
       "...           ...   ...    ...              ...          ...          ...   \n",
       "30774     13216.0   4.0  390.0                0            0            0   \n",
       "28992     64955.0  15.0  150.0                0            0            0   \n",
       "22523     27000.0   9.0  150.0                0            0            0   \n",
       "15341     52000.0  10.0  150.0                0            0            0   \n",
       "14319     41939.0   8.0  200.0                0            0            0   \n",
       "\n",
       "       city_Adoni  city_Adyar  city_Agra  city_Ahmedabad  ...  \\\n",
       "32189           0           0          0               0  ...   \n",
       "3509            0           0          0               0  ...   \n",
       "22965           0           0          0               0  ...   \n",
       "18456           0           0          0               0  ...   \n",
       "4008            0           0          0               0  ...   \n",
       "...           ...         ...        ...             ...  ...   \n",
       "30774           0           0          0               0  ...   \n",
       "28992           0           0          0               0  ...   \n",
       "22523           0           0          0               0  ...   \n",
       "15341           0           0          0               0  ...   \n",
       "14319           0           0          0               0  ...   \n",
       "\n",
       "       brand_Royal Enfield  brand_Suzuki  brand_TVS  brand_Triumph  \\\n",
       "32189                    0             0          0              0   \n",
       "3509                     0             0          1              0   \n",
       "22965                    0             0          0              0   \n",
       "18456                    0             0          0              0   \n",
       "4008                     0             0          0              0   \n",
       "...                    ...           ...        ...            ...   \n",
       "30774                    0             0          0              0   \n",
       "28992                    0             0          0              0   \n",
       "22523                    0             0          0              0   \n",
       "15341                    0             0          0              0   \n",
       "14319                    0             0          0              0   \n",
       "\n",
       "       brand_Yamaha  brand_Yezdi  bike_owner_no_First  bike_owner_no_Fourth  \\\n",
       "32189             0            0                    1                     0   \n",
       "3509              0            0                    1                     0   \n",
       "22965             0            0                    1                     0   \n",
       "18456             0            0                    1                     0   \n",
       "4008              0            0                    1                     0   \n",
       "...             ...          ...                  ...                   ...   \n",
       "30774             0            0                    1                     0   \n",
       "28992             0            0                    1                     0   \n",
       "22523             1            0                    1                     0   \n",
       "15341             1            0                    1                     0   \n",
       "14319             0            0                    1                     0   \n",
       "\n",
       "       bike_owner_no_Second  bike_owner_no_Third  \n",
       "32189                     0                    0  \n",
       "3509                      0                    0  \n",
       "22965                     0                    0  \n",
       "18456                     0                    0  \n",
       "4008                      0                    0  \n",
       "...                     ...                  ...  \n",
       "30774                     0                    0  \n",
       "28992                     0                    0  \n",
       "22523                     0                    0  \n",
       "15341                     0                    0  \n",
       "14319                     0                    0  \n",
       "\n",
       "[6530 rows x 473 columns]"
      ]
     },
     "execution_count": 37,
     "metadata": {},
     "output_type": "execute_result"
    }
   ],
   "source": [
    "X_test"
   ]
  },
  {
   "cell_type": "code",
   "execution_count": 38,
   "id": "959fedc7",
   "metadata": {
    "execution": {
     "iopub.execute_input": "2022-04-21T07:30:27.314281Z",
     "iopub.status.busy": "2022-04-21T07:30:27.313548Z",
     "iopub.status.idle": "2022-04-21T07:30:27.316847Z",
     "shell.execute_reply": "2022-04-21T07:30:27.317295Z",
     "shell.execute_reply.started": "2022-04-21T07:21:13.971956Z"
    },
    "papermill": {
     "duration": 0.088909,
     "end_time": "2022-04-21T07:30:27.317464",
     "exception": false,
     "start_time": "2022-04-21T07:30:27.228555",
     "status": "completed"
    },
    "tags": []
   },
   "outputs": [
    {
     "data": {
      "text/plain": [
       "32189    450000.0\n",
       "3509      92000.0\n",
       "22965     50000.0\n",
       "18456     43000.0\n",
       "4008      26500.0\n",
       "           ...   \n",
       "30774    196700.0\n",
       "28992     10000.0\n",
       "22523     55000.0\n",
       "15341     20000.0\n",
       "14319     48000.0\n",
       "Name: price, Length: 6530, dtype: float64"
      ]
     },
     "execution_count": 38,
     "metadata": {},
     "output_type": "execute_result"
    }
   ],
   "source": [
    "y_test"
   ]
  },
  {
   "cell_type": "code",
   "execution_count": 39,
   "id": "f885a012",
   "metadata": {
    "execution": {
     "iopub.execute_input": "2022-04-21T07:30:27.479412Z",
     "iopub.status.busy": "2022-04-21T07:30:27.478732Z",
     "iopub.status.idle": "2022-04-21T07:30:27.481714Z",
     "shell.execute_reply": "2022-04-21T07:30:27.482250Z",
     "shell.execute_reply.started": "2022-04-21T07:21:13.982560Z"
    },
    "papermill": {
     "duration": 0.085921,
     "end_time": "2022-04-21T07:30:27.482421",
     "exception": false,
     "start_time": "2022-04-21T07:30:27.396500",
     "status": "completed"
    },
    "tags": []
   },
   "outputs": [
    {
     "data": {
      "text/plain": [
       "26118"
      ]
     },
     "execution_count": 39,
     "metadata": {},
     "output_type": "execute_result"
    }
   ],
   "source": [
    "len(X_train)"
   ]
  },
  {
   "cell_type": "code",
   "execution_count": 40,
   "id": "66944e5c",
   "metadata": {
    "execution": {
     "iopub.execute_input": "2022-04-21T07:30:27.645810Z",
     "iopub.status.busy": "2022-04-21T07:30:27.645115Z",
     "iopub.status.idle": "2022-04-21T07:30:27.649469Z",
     "shell.execute_reply": "2022-04-21T07:30:27.648869Z",
     "shell.execute_reply.started": "2022-04-21T07:21:13.996473Z"
    },
    "papermill": {
     "duration": 0.088728,
     "end_time": "2022-04-21T07:30:27.649627",
     "exception": false,
     "start_time": "2022-04-21T07:30:27.560899",
     "status": "completed"
    },
    "tags": []
   },
   "outputs": [
    {
     "data": {
      "text/plain": [
       "6530"
      ]
     },
     "execution_count": 40,
     "metadata": {},
     "output_type": "execute_result"
    }
   ],
   "source": [
    "len(X_test)\n"
   ]
  },
  {
   "cell_type": "markdown",
   "id": "38bc7230",
   "metadata": {
    "papermill": {
     "duration": 0.078286,
     "end_time": "2022-04-21T07:30:27.807771",
     "exception": false,
     "start_time": "2022-04-21T07:30:27.729485",
     "status": "completed"
    },
    "tags": []
   },
   "source": [
    "# Models"
   ]
  },
  {
   "cell_type": "code",
   "execution_count": 41,
   "id": "02178f99",
   "metadata": {
    "execution": {
     "iopub.execute_input": "2022-04-21T07:30:27.970347Z",
     "iopub.status.busy": "2022-04-21T07:30:27.969369Z",
     "iopub.status.idle": "2022-04-21T07:30:27.972428Z",
     "shell.execute_reply": "2022-04-21T07:30:27.971889Z",
     "shell.execute_reply.started": "2022-04-21T07:21:14.007420Z"
    },
    "papermill": {
     "duration": 0.085896,
     "end_time": "2022-04-21T07:30:27.972564",
     "exception": false,
     "start_time": "2022-04-21T07:30:27.886668",
     "status": "completed"
    },
    "tags": []
   },
   "outputs": [],
   "source": [
    "#Building and training the model\n",
    "model=LinearRegression()"
   ]
  },
  {
   "cell_type": "code",
   "execution_count": 42,
   "id": "077bbb7b",
   "metadata": {
    "execution": {
     "iopub.execute_input": "2022-04-21T07:30:28.136136Z",
     "iopub.status.busy": "2022-04-21T07:30:28.135408Z",
     "iopub.status.idle": "2022-04-21T07:30:28.953951Z",
     "shell.execute_reply": "2022-04-21T07:30:28.954976Z",
     "shell.execute_reply.started": "2022-04-21T07:21:14.018993Z"
    },
    "papermill": {
     "duration": 0.903584,
     "end_time": "2022-04-21T07:30:28.955249",
     "exception": false,
     "start_time": "2022-04-21T07:30:28.051665",
     "status": "completed"
    },
    "tags": []
   },
   "outputs": [
    {
     "data": {
      "text/plain": [
       "LinearRegression()"
      ]
     },
     "execution_count": 42,
     "metadata": {},
     "output_type": "execute_result"
    }
   ],
   "source": [
    "model.fit(X_train,y_train)"
   ]
  },
  {
   "cell_type": "code",
   "execution_count": 43,
   "id": "af03df6a",
   "metadata": {
    "execution": {
     "iopub.execute_input": "2022-04-21T07:30:29.176528Z",
     "iopub.status.busy": "2022-04-21T07:30:29.175827Z",
     "iopub.status.idle": "2022-04-21T07:30:29.196621Z",
     "shell.execute_reply": "2022-04-21T07:30:29.197563Z",
     "shell.execute_reply.started": "2022-04-21T07:21:14.836167Z"
    },
    "papermill": {
     "duration": 0.112111,
     "end_time": "2022-04-21T07:30:29.197856",
     "exception": false,
     "start_time": "2022-04-21T07:30:29.085745",
     "status": "completed"
    },
    "tags": []
   },
   "outputs": [
    {
     "data": {
      "text/plain": [
       "0.8927715828210488"
      ]
     },
     "execution_count": 43,
     "metadata": {},
     "output_type": "execute_result"
    }
   ],
   "source": [
    "model.score(X_test,y_test)"
   ]
  },
  {
   "cell_type": "code",
   "execution_count": 44,
   "id": "9c3d04ab",
   "metadata": {
    "execution": {
     "iopub.execute_input": "2022-04-21T07:30:29.413259Z",
     "iopub.status.busy": "2022-04-21T07:30:29.412619Z",
     "iopub.status.idle": "2022-04-21T07:30:29.435891Z",
     "shell.execute_reply": "2022-04-21T07:30:29.436802Z",
     "shell.execute_reply.started": "2022-04-21T07:21:14.876421Z"
    },
    "papermill": {
     "duration": 0.109672,
     "end_time": "2022-04-21T07:30:29.437073",
     "exception": false,
     "start_time": "2022-04-21T07:30:29.327401",
     "status": "completed"
    },
    "tags": []
   },
   "outputs": [
    {
     "data": {
      "text/plain": [
       "array([450003.99892167,  82970.33479207,  58122.68905378, ...,\n",
       "        54978.18482171,  19942.75031325,  47885.16111617])"
      ]
     },
     "execution_count": 44,
     "metadata": {},
     "output_type": "execute_result"
    }
   ],
   "source": [
    "predictions=model.predict(X_test)\n",
    "predictions"
   ]
  },
  {
   "cell_type": "code",
   "execution_count": 45,
   "id": "71f0dc7a",
   "metadata": {
    "execution": {
     "iopub.execute_input": "2022-04-21T07:30:29.655252Z",
     "iopub.status.busy": "2022-04-21T07:30:29.649276Z",
     "iopub.status.idle": "2022-04-21T07:30:29.922743Z",
     "shell.execute_reply": "2022-04-21T07:30:29.922055Z",
     "shell.execute_reply.started": "2022-04-21T07:21:14.912847Z"
    },
    "papermill": {
     "duration": 0.355919,
     "end_time": "2022-04-21T07:30:29.922889",
     "exception": false,
     "start_time": "2022-04-21T07:30:29.566970",
     "status": "completed"
    },
    "tags": []
   },
   "outputs": [
    {
     "data": {
      "text/plain": [
       "Text(0, 0.5, 'Predictions')"
      ]
     },
     "execution_count": 45,
     "metadata": {},
     "output_type": "execute_result"
    },
    {
     "data": {
      "image/png": "[encoded data removed]",
      "text/plain": [
       "<Figure size 432x288 with 1 Axes>"
      ]
     },
     "metadata": {
      "needs_background": "light"
     },
     "output_type": "display_data"
    }
   ],
   "source": [
    "plt.scatter(y_test,predictions)\n",
    "plt.xlabel('y_test')\n",
    "plt.ylabel('Predictions')"
   ]
  },
  {
   "cell_type": "markdown",
   "id": "ae3aff50",
   "metadata": {
    "papermill": {
     "duration": 0.080507,
     "end_time": "2022-04-21T07:30:30.084336",
     "exception": false,
     "start_time": "2022-04-21T07:30:30.003829",
     "status": "completed"
    },
    "tags": []
   },
   "source": [
    "# Random Forest Regressor Model"
   ]
  },
  {
   "cell_type": "code",
   "execution_count": 46,
   "id": "a0085506",
   "metadata": {
    "execution": {
     "iopub.execute_input": "2022-04-21T07:30:30.251555Z",
     "iopub.status.busy": "2022-04-21T07:30:30.250108Z",
     "iopub.status.idle": "2022-04-21T07:30:30.367539Z",
     "shell.execute_reply": "2022-04-21T07:30:30.366891Z",
     "shell.execute_reply.started": "2022-04-21T07:21:15.195918Z"
    },
    "papermill": {
     "duration": 0.201989,
     "end_time": "2022-04-21T07:30:30.367709",
     "exception": false,
     "start_time": "2022-04-21T07:30:30.165720",
     "status": "completed"
    },
    "tags": []
   },
   "outputs": [],
   "source": [
    "from sklearn.ensemble import RandomForestRegressor\n"
   ]
  },
  {
   "cell_type": "code",
   "execution_count": 47,
   "id": "0a3fb25f",
   "metadata": {
    "execution": {
     "iopub.execute_input": "2022-04-21T07:30:30.533962Z",
     "iopub.status.busy": "2022-04-21T07:30:30.532945Z",
     "iopub.status.idle": "2022-04-21T07:30:30.536490Z",
     "shell.execute_reply": "2022-04-21T07:30:30.537177Z",
     "shell.execute_reply.started": "2022-04-21T07:21:15.507873Z"
    },
    "papermill": {
     "duration": 0.088587,
     "end_time": "2022-04-21T07:30:30.537368",
     "exception": false,
     "start_time": "2022-04-21T07:30:30.448781",
     "status": "completed"
    },
    "tags": []
   },
   "outputs": [],
   "source": [
    "modell=RandomForestRegressor()"
   ]
  },
  {
   "cell_type": "code",
   "execution_count": 48,
   "id": "3ce5ca00",
   "metadata": {
    "execution": {
     "iopub.execute_input": "2022-04-21T07:30:30.709379Z",
     "iopub.status.busy": "2022-04-21T07:30:30.708697Z",
     "iopub.status.idle": "2022-04-21T07:30:56.844928Z",
     "shell.execute_reply": "2022-04-21T07:30:56.844264Z",
     "shell.execute_reply.started": "2022-04-21T07:21:15.514063Z"
    },
    "papermill": {
     "duration": 26.227564,
     "end_time": "2022-04-21T07:30:56.845079",
     "exception": false,
     "start_time": "2022-04-21T07:30:30.617515",
     "status": "completed"
    },
    "tags": []
   },
   "outputs": [
    {
     "data": {
      "text/plain": [
       "RandomForestRegressor()"
      ]
     },
     "execution_count": 48,
     "metadata": {},
     "output_type": "execute_result"
    }
   ],
   "source": [
    "modell.fit(X_train,y_train)"
   ]
  },
  {
   "cell_type": "code",
   "execution_count": 49,
   "id": "45ce7dde",
   "metadata": {
    "execution": {
     "iopub.execute_input": "2022-04-21T07:30:57.013933Z",
     "iopub.status.busy": "2022-04-21T07:30:57.013282Z",
     "iopub.status.idle": "2022-04-21T07:30:57.177763Z",
     "shell.execute_reply": "2022-04-21T07:30:57.178270Z",
     "shell.execute_reply.started": "2022-04-21T07:21:41.085391Z"
    },
    "papermill": {
     "duration": 0.250789,
     "end_time": "2022-04-21T07:30:57.178453",
     "exception": false,
     "start_time": "2022-04-21T07:30:56.927664",
     "status": "completed"
    },
    "tags": []
   },
   "outputs": [
    {
     "data": {
      "text/plain": [
       "0.9389159232973912"
      ]
     },
     "execution_count": 49,
     "metadata": {},
     "output_type": "execute_result"
    }
   ],
   "source": [
    "modell.score(X_test,y_test)"
   ]
  },
  {
   "cell_type": "code",
   "execution_count": 50,
   "id": "3c7018bb",
   "metadata": {
    "execution": {
     "iopub.execute_input": "2022-04-21T07:30:57.345368Z",
     "iopub.status.busy": "2022-04-21T07:30:57.344759Z",
     "iopub.status.idle": "2022-04-21T07:30:57.505066Z",
     "shell.execute_reply": "2022-04-21T07:30:57.504341Z",
     "shell.execute_reply.started": "2022-04-21T07:21:41.254301Z"
    },
    "papermill": {
     "duration": 0.24469,
     "end_time": "2022-04-21T07:30:57.505212",
     "exception": false,
     "start_time": "2022-04-21T07:30:57.260522",
     "status": "completed"
    },
    "tags": []
   },
   "outputs": [
    {
     "data": {
      "text/plain": [
       "array([450000.,  77584.,  50000., ...,  55000.,  20000.,  48000.])"
      ]
     },
     "execution_count": 50,
     "metadata": {},
     "output_type": "execute_result"
    }
   ],
   "source": [
    "prediction=modell.predict(X_test)\n",
    "prediction"
   ]
  },
  {
   "cell_type": "code",
   "execution_count": 51,
   "id": "0ad61dd3",
   "metadata": {
    "execution": {
     "iopub.execute_input": "2022-04-21T07:30:57.692738Z",
     "iopub.status.busy": "2022-04-21T07:30:57.692022Z",
     "iopub.status.idle": "2022-04-21T07:30:57.950560Z",
     "shell.execute_reply": "2022-04-21T07:30:57.951140Z",
     "shell.execute_reply.started": "2022-04-21T07:21:41.417704Z"
    },
    "papermill": {
     "duration": 0.363849,
     "end_time": "2022-04-21T07:30:57.951336",
     "exception": false,
     "start_time": "2022-04-21T07:30:57.587487",
     "status": "completed"
    },
    "tags": []
   },
   "outputs": [
    {
     "data": {
      "text/plain": [
       "Text(0, 0.5, 'prediction')"
      ]
     },
     "execution_count": 51,
     "metadata": {},
     "output_type": "execute_result"
    },
    {
     "data": {
      "image/png": "[encoded data removed]",
      "text/plain": [
       "<Figure size 432x288 with 1 Axes>"
      ]
     },
     "metadata": {
      "needs_background": "light"
     },
     "output_type": "display_data"
    }
   ],
   "source": [
    "plt.scatter(y_test,prediction)\n",
    "plt.xlabel('y_test')\n",
    "plt.ylabel('prediction')"
   ]
  },
  {
   "cell_type": "markdown",
   "id": "dfe7f184",
   "metadata": {
    "papermill": {
     "duration": 0.083154,
     "end_time": "2022-04-21T07:30:58.118849",
     "exception": false,
     "start_time": "2022-04-21T07:30:58.035695",
     "status": "completed"
    },
    "tags": []
   },
   "source": [
    "# Decision Tree Regressor Model"
   ]
  },
  {
   "cell_type": "code",
   "execution_count": 52,
   "id": "e0547979",
   "metadata": {
    "execution": {
     "iopub.execute_input": "2022-04-21T07:30:58.290829Z",
     "iopub.status.busy": "2022-04-21T07:30:58.290078Z",
     "iopub.status.idle": "2022-04-21T07:30:58.293348Z",
     "shell.execute_reply": "2022-04-21T07:30:58.293869Z",
     "shell.execute_reply.started": "2022-04-21T07:21:41.667358Z"
    },
    "papermill": {
     "duration": 0.091067,
     "end_time": "2022-04-21T07:30:58.294051",
     "exception": false,
     "start_time": "2022-04-21T07:30:58.202984",
     "status": "completed"
    },
    "tags": []
   },
   "outputs": [],
   "source": [
    "from sklearn.tree import DecisionTreeRegressor"
   ]
  },
  {
   "cell_type": "code",
   "execution_count": 53,
   "id": "cb769506",
   "metadata": {
    "execution": {
     "iopub.execute_input": "2022-04-21T07:30:58.464192Z",
     "iopub.status.busy": "2022-04-21T07:30:58.463421Z",
     "iopub.status.idle": "2022-04-21T07:30:58.466471Z",
     "shell.execute_reply": "2022-04-21T07:30:58.467047Z",
     "shell.execute_reply.started": "2022-04-21T07:21:41.672787Z"
    },
    "papermill": {
     "duration": 0.090238,
     "end_time": "2022-04-21T07:30:58.467221",
     "exception": false,
     "start_time": "2022-04-21T07:30:58.376983",
     "status": "completed"
    },
    "tags": []
   },
   "outputs": [],
   "source": [
    "regressor=DecisionTreeRegressor()"
   ]
  },
  {
   "cell_type": "code",
   "execution_count": 54,
   "id": "2e6c961b",
   "metadata": {
    "execution": {
     "iopub.execute_input": "2022-04-21T07:30:58.636703Z",
     "iopub.status.busy": "2022-04-21T07:30:58.636011Z",
     "iopub.status.idle": "2022-04-21T07:30:59.138544Z",
     "shell.execute_reply": "2022-04-21T07:30:59.139080Z",
     "shell.execute_reply.started": "2022-04-21T07:21:41.687097Z"
    },
    "papermill": {
     "duration": 0.588936,
     "end_time": "2022-04-21T07:30:59.139269",
     "exception": false,
     "start_time": "2022-04-21T07:30:58.550333",
     "status": "completed"
    },
    "tags": []
   },
   "outputs": [
    {
     "data": {
      "text/plain": [
       "DecisionTreeRegressor()"
      ]
     },
     "execution_count": 54,
     "metadata": {},
     "output_type": "execute_result"
    }
   ],
   "source": [
    "regressor.fit(X_train,y_train)"
   ]
  },
  {
   "cell_type": "code",
   "execution_count": 55,
   "id": "7f2c021e",
   "metadata": {
    "execution": {
     "iopub.execute_input": "2022-04-21T07:30:59.318167Z",
     "iopub.status.busy": "2022-04-21T07:30:59.317388Z",
     "iopub.status.idle": "2022-04-21T07:30:59.334312Z",
     "shell.execute_reply": "2022-04-21T07:30:59.334859Z",
     "shell.execute_reply.started": "2022-04-21T07:21:42.193500Z"
    },
    "papermill": {
     "duration": 0.110932,
     "end_time": "2022-04-21T07:30:59.335032",
     "exception": false,
     "start_time": "2022-04-21T07:30:59.224100",
     "status": "completed"
    },
    "tags": []
   },
   "outputs": [
    {
     "data": {
      "text/plain": [
       "0.9321537922365302"
      ]
     },
     "execution_count": 55,
     "metadata": {},
     "output_type": "execute_result"
    }
   ],
   "source": [
    "regressor.score(X_test,y_test)"
   ]
  },
  {
   "cell_type": "code",
   "execution_count": 56,
   "id": "2b72b3e8",
   "metadata": {
    "execution": {
     "iopub.execute_input": "2022-04-21T07:30:59.513392Z",
     "iopub.status.busy": "2022-04-21T07:30:59.512709Z",
     "iopub.status.idle": "2022-04-21T07:30:59.528233Z",
     "shell.execute_reply": "2022-04-21T07:30:59.528750Z",
     "shell.execute_reply.started": "2022-04-21T07:21:42.220061Z"
    },
    "papermill": {
     "duration": 0.110086,
     "end_time": "2022-04-21T07:30:59.528926",
     "exception": false,
     "start_time": "2022-04-21T07:30:59.418840",
     "status": "completed"
    },
    "tags": []
   },
   "outputs": [
    {
     "data": {
      "text/plain": [
       "array([450000.,  92600.,  50000., ...,  55000.,  20000.,  48000.])"
      ]
     },
     "execution_count": 56,
     "metadata": {},
     "output_type": "execute_result"
    }
   ],
   "source": [
    "prediction=regressor.predict(X_test)\n",
    "prediction"
   ]
  },
  {
   "cell_type": "markdown",
   "id": "84d759f1",
   "metadata": {
    "papermill": {
     "duration": 0.083651,
     "end_time": "2022-04-21T07:30:59.696830",
     "exception": false,
     "start_time": "2022-04-21T07:30:59.613179",
     "status": "completed"
    },
    "tags": []
   },
   "source": [
    "# So Here Randomforest Regressor model is more accurate than linear Regression,Decision tree regressor model"
   ]
  },
  {
   "cell_type": "markdown",
   "id": "464f27b4",
   "metadata": {
    "papermill": {
     "duration": 0.083747,
     "end_time": "2022-04-21T07:30:59.864445",
     "exception": false,
     "start_time": "2022-04-21T07:30:59.780698",
     "status": "completed"
    },
    "tags": []
   },
   "source": [
    "# Randomforest Regressor model >  linear Regression Model > Decision tree regressor model"
   ]
  },
  {
   "cell_type": "markdown",
   "id": "d33358e0",
   "metadata": {
    "papermill": {
     "duration": 0.084327,
     "end_time": "2022-04-21T07:31:00.032704",
     "exception": false,
     "start_time": "2022-04-21T07:30:59.948377",
     "status": "completed"
    },
    "tags": []
   },
   "source": [
    "> # ******Thank You"
   ]
  },
  {
   "cell_type": "code",
   "execution_count": null,
   "id": "69319ae3",
   "metadata": {
    "papermill": {
     "duration": 0.085341,
     "end_time": "2022-04-21T07:31:00.202050",
     "exception": false,
     "start_time": "2022-04-21T07:31:00.116709",
     "status": "completed"
    },
    "tags": []
   },
   "outputs": [],
   "source": []
  }
 ],
 "metadata": {
  "kernelspec": {
   "display_name": "Python 3 (ipykernel)",
   "language": "python",
   "name": "python3"
  },
  "language_info": {
   "codemirror_mode": {
    "name": "ipython",
    "version": 3
   },
   "file_extension": ".py",
   "mimetype": "text/x-python",
   "name": "python",
   "nbconvert_exporter": "python",
   "pygments_lexer": "ipython3",
   "version": "3.11.1"
  },
  "papermill": {
   "default_parameters": {},
   "duration": 82.882175,
   "end_time": "2022-04-21T07:31:01.197395",
   "environment_variables": {},
   "exception": null,
   "input_path": "__notebook__.ipynb",
   "output_path": "__notebook__.ipynb",
   "parameters": {},
   "start_time": "2022-04-21T07:29:38.315220",
   "version": "2.3.3"
  }
 },
 "nbformat": 4,
 "nbformat_minor": 5
}
